{
 "cells": [
  {
   "cell_type": "code",
   "execution_count": 1,
   "id": "9d17e9ae-c10c-4992-b6b8-4ce75c816746",
   "metadata": {},
   "outputs": [],
   "source": [
    "import argparse\n",
    "import json\n",
    "import os\n",
    "import tempfile\n",
    "\n",
    "import monai\n",
    "import torch\n",
    "from monai.apps import download_url\n",
    "from monai.config import print_config\n",
    "from monai.transforms import LoadImage, Orientation\n",
    "from monai.utils import set_determinism"
   ]
  },
  {
   "cell_type": "code",
   "execution_count": 3,
   "id": "f89d24ee-b8f0-4f40-a29d-ab2e39e7961f",
   "metadata": {},
   "outputs": [],
   "source": [
    "model_def_path = \"./monai_models/configs/config_maisi3d-rflow.json\"\n",
    "with open(model_def_path, \"r\") as f:\n",
    "    model_def = json.load(f)"
   ]
  },
  {
   "cell_type": "code",
   "execution_count": 6,
   "id": "4c7fda14-96d2-46fd-91bf-48eb7a560ac5",
   "metadata": {},
   "outputs": [],
   "source": [
    "os.environ[\"MONAI_DATA_DIRECTORY\"] = \"monai_models\"\n",
    "directory = os.environ.get(\"MONAI_DATA_DIRECTORY\")\n",
    "if directory is not None:\n",
    "    os.makedirs(directory, exist_ok=True)\n",
    "root_dir = tempfile.mkdtemp() if directory is None else directory"
   ]
  },
  {
   "cell_type": "code",
   "execution_count": 7,
   "id": "06b492c2-a931-4e1e-8d48-359270aa1340",
   "metadata": {},
   "outputs": [
    {
     "name": "stdout",
     "output_type": "stream",
     "text": [
      "2025-07-25 18:46:02,410 - INFO - Expected md5 is None, skip md5 check for file models/autoencoder_epoch273.pt.\n",
      "2025-07-25 18:46:02,411 - INFO - File exists: models/autoencoder_epoch273.pt, skipped downloading.\n",
      "2025-07-25 18:46:02,411 - INFO - Expected md5 is None, skip md5 check for file models/mask_generation_autoencoder.pt.\n",
      "2025-07-25 18:46:02,411 - INFO - File exists: models/mask_generation_autoencoder.pt, skipped downloading.\n",
      "2025-07-25 18:46:02,412 - INFO - Expected md5 is None, skip md5 check for file models/mask_generation_diffusion_unet.pt.\n",
      "2025-07-25 18:46:02,412 - INFO - File exists: models/mask_generation_diffusion_unet.pt, skipped downloading.\n",
      "2025-07-25 18:46:02,412 - INFO - Expected md5 is None, skip md5 check for file configs/all_anatomy_size_condtions.json.\n",
      "2025-07-25 18:46:02,413 - INFO - File exists: configs/all_anatomy_size_condtions.json, skipped downloading.\n"
     ]
    },
    {
     "name": "stderr",
     "output_type": "stream",
     "text": [
      "all_masks_flexible_size_and_spacing_4000.zip: 10.8GB [41:46, 4.62MB/s]                                   "
     ]
    },
    {
     "name": "stdout",
     "output_type": "stream",
     "text": [
      "2025-07-25 19:27:48,964 - INFO - Downloaded: monai_models/datasets/all_masks_flexible_size_and_spacing_4000.zip\n",
      "2025-07-25 19:27:48,966 - INFO - Expected md5 is None, skip md5 check for file monai_models/datasets/all_masks_flexible_size_and_spacing_4000.zip.\n"
     ]
    },
    {
     "name": "stderr",
     "output_type": "stream",
     "text": [
      "\n",
      "diff_unet_3d_rflow.pt: 2.02GB [07:46, 4.64MB/s]                                                          "
     ]
    },
    {
     "name": "stdout",
     "output_type": "stream",
     "text": [
      "2025-07-25 19:35:35,461 - INFO - Downloaded: models/diff_unet_3d_rflow.pt\n",
      "2025-07-25 19:35:35,462 - INFO - Expected md5 is None, skip md5 check for file models/diff_unet_3d_rflow.pt.\n"
     ]
    },
    {
     "name": "stderr",
     "output_type": "stream",
     "text": [
      "\n",
      "controlnet_3d_rflow.pt: 275MB [01:06, 4.31MB/s]                                                          "
     ]
    },
    {
     "name": "stdout",
     "output_type": "stream",
     "text": [
      "2025-07-25 19:36:42,300 - INFO - Downloaded: models/controlnet_3d_rflow.pt\n",
      "2025-07-25 19:36:42,301 - INFO - Expected md5 is None, skip md5 check for file models/controlnet_3d_rflow.pt.\n"
     ]
    },
    {
     "name": "stderr",
     "output_type": "stream",
     "text": [
      "\n",
      "candidate_masks_flexible_size_and_spacing_4000.json: 6.52MB [00:01, 4.40MB/s]                            "
     ]
    },
    {
     "name": "stdout",
     "output_type": "stream",
     "text": [
      "2025-07-25 19:36:43,857 - INFO - Downloaded: configs/candidate_masks_flexible_size_and_spacing_4000.json\n",
      "2025-07-25 19:36:43,857 - INFO - Expected md5 is None, skip md5 check for file configs/candidate_masks_flexible_size_and_spacing_4000.json.\n"
     ]
    },
    {
     "name": "stderr",
     "output_type": "stream",
     "text": [
      "\n"
     ]
    }
   ],
   "source": [
    "files = [\n",
    "    {\n",
    "        \"path\": \"models/autoencoder_epoch273.pt\",\n",
    "        \"url\": \"https://developer.download.nvidia.com/assets/Clara/monai/tutorials\"\n",
    "        \"/model_zoo/model_maisi_autoencoder_epoch273_alternative.pt\",\n",
    "    },\n",
    "    {\n",
    "        \"path\": \"models/mask_generation_autoencoder.pt\",\n",
    "        \"url\": \"https://developer.download.nvidia.com/assets/Clara/monai\" \"/tutorials/mask_generation_autoencoder.pt\",\n",
    "    },\n",
    "    {\n",
    "        \"path\": \"models/mask_generation_diffusion_unet.pt\",\n",
    "        \"url\": \"https://developer.download.nvidia.com/assets/Clara/monai\"\n",
    "        \"/tutorials/model_zoo/model_maisi_mask_generation_diffusion_unet_v2.pt\",\n",
    "    },\n",
    "    {\n",
    "        \"path\": \"configs/all_anatomy_size_condtions.json\",\n",
    "        \"url\": \"https://developer.download.nvidia.com/assets/Clara/monai/tutorials/all_anatomy_size_condtions.json\",\n",
    "    },\n",
    "    {\n",
    "        \"path\": \"datasets/all_masks_flexible_size_and_spacing_4000.zip\",\n",
    "        \"url\": \"https://developer.download.nvidia.com/assets/Clara/monai\"\n",
    "        \"/tutorials/all_masks_flexible_size_and_spacing_4000.zip\",\n",
    "    },\n",
    "    {\n",
    "        \"path\": \"models/diff_unet_3d_rflow.pt\",\n",
    "        \"url\": \"https://developer.download.nvidia.com/assets/Clara/monai/tutorials/\"\n",
    "        \"diff_unet_ckpt_rflow_epoch19350.pt\",\n",
    "    },\n",
    "    {\n",
    "        \"path\": \"models/controlnet_3d_rflow.pt\",\n",
    "        \"url\": \"https://developer.download.nvidia.com/assets/Clara/monai/tutorials/controlnet_rflow_epoch60.pt\",\n",
    "    },\n",
    "    {\n",
    "        \"path\": \"configs/candidate_masks_flexible_size_and_spacing_4000.json\",\n",
    "        \"url\": \"https://developer.download.nvidia.com/assets/Clara/monai\"\n",
    "        \"/tutorials/candidate_masks_flexible_size_and_spacing_4000.json\",\n",
    "    },\n",
    "]\n",
    "\n",
    "for file in files:\n",
    "    file[\"path\"] = file[\"path\"] if \"datasets/\" not in file[\"path\"] else os.path.join(root_dir, file[\"path\"])\n",
    "    download_url(url=file[\"url\"], filepath=file[\"path\"])\n"
   ]
  },
  {
   "cell_type": "code",
   "execution_count": null,
   "id": "3a6c594a-bd01-4ca5-a573-5478ec2d0ffa",
   "metadata": {},
   "outputs": [],
   "source": []
  }
 ],
 "metadata": {
  "kernelspec": {
   "display_name": "Python 3 (ipykernel)",
   "language": "python",
   "name": "python3"
  },
  "language_info": {
   "codemirror_mode": {
    "name": "ipython",
    "version": 3
   },
   "file_extension": ".py",
   "mimetype": "text/x-python",
   "name": "python",
   "nbconvert_exporter": "python",
   "pygments_lexer": "ipython3",
   "version": "3.10.12"
  }
 },
 "nbformat": 4,
 "nbformat_minor": 5
}
