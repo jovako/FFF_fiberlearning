{
 "cells": [
  {
   "cell_type": "markdown",
   "id": "fe93fd8b-f9ee-40eb-95d8-616533cf64bb",
   "metadata": {},
   "source": [
    "# Fiber Learning Model Demo"
   ]
  },
  {
   "cell_type": "markdown",
   "id": "3b701c6a-cd37-4337-8d1e-f40ef68c896d",
   "metadata": {},
   "source": [
    "This notebook demonstrates fiber learning with generative models on small FIFs trained on EMNIST.<br>\n",
    "First we train a subject model from which we want to learn the fibers from.<br>\n",
    "Next we train a dimensions reducing VAE that should be lossless and provide a more dense latent space in which the fiber learning model is operating.<br>\n",
    "Lastly we train the fiber learning model on the resulting representations of the subject model in the latent space of the VAE."
   ]
  },
  {
   "cell_type": "code",
   "execution_count": 1,
   "id": "cb926e7a-6f28-44f9-a87f-0c910c7d0382",
   "metadata": {},
   "outputs": [
    {
     "name": "stderr",
     "output_type": "stream",
     "text": [
      "INFO: Using pytorch backend\n",
      "INFO: Note: NumExpr detected 12 cores but \"NUMEXPR_MAX_THREADS\" not set, so enforcing safe limit of 8.\n",
      "INFO: NumExpr defaulting to 8 threads.\n",
      "2024-11-18 16:31:25.272473: I tensorflow/tsl/cuda/cudart_stub.cc:28] Could not find cuda drivers on your machine, GPU will not be used.\n",
      "2024-11-18 16:31:25.309121: I tensorflow/core/platform/cpu_feature_guard.cc:182] This TensorFlow binary is optimized to use available CPU instructions in performance-critical operations.\n",
      "To enable the following instructions: AVX2 FMA, in other operations, rebuild TensorFlow with the appropriate compiler flags.\n",
      "2024-11-18 16:31:25.988413: W tensorflow/compiler/tf2tensorrt/utils/py_utils.cc:38] TF-TRT Warning: Could not find TensorRT\n"
     ]
    },
    {
     "ename": "ModuleNotFoundError",
     "evalue": "No module named 'fff.evaluate.eval_mnist_fibers'",
     "output_type": "error",
     "traceback": [
      "\u001b[0;31m---------------------------------------------------------------------------\u001b[0m",
      "\u001b[0;31mModuleNotFoundError\u001b[0m                       Traceback (most recent call last)",
      "Cell \u001b[0;32mIn[1], line 18\u001b[0m\n\u001b[1;32m     16\u001b[0m \u001b[38;5;28;01mimport\u001b[39;00m \u001b[38;5;21;01mgc\u001b[39;00m         \u001b[38;5;66;03m# garbage collect library\u001b[39;00m\n\u001b[1;32m     17\u001b[0m \u001b[38;5;28;01mimport\u001b[39;00m \u001b[38;5;21;01mshutil\u001b[39;00m\n\u001b[0;32m---> 18\u001b[0m \u001b[38;5;28;01mfrom\u001b[39;00m \u001b[38;5;21;01mfff\u001b[39;00m\u001b[38;5;21;01m.\u001b[39;00m\u001b[38;5;21;01mevaluate\u001b[39;00m\u001b[38;5;21;01m.\u001b[39;00m\u001b[38;5;21;01meval_mnist_fibers\u001b[39;00m \u001b[38;5;28;01mimport\u001b[39;00m \u001b[38;5;241m*\u001b[39m\n",
      "\u001b[0;31mModuleNotFoundError\u001b[0m: No module named 'fff.evaluate.eval_mnist_fibers'"
     ]
    }
   ],
   "source": [
    "import os\n",
    "os.chdir(os.path.expanduser('~/PhD/FFF_fiberlearning/'))\n",
    "import fff\n",
    "import yaml\n",
    "import lightning_trainable\n",
    "import torch\n",
    "import numpy as np\n",
    "import matplotlib.pyplot as plt\n",
    "import matplotlib\n",
    "import pandas as pd\n",
    "import os\n",
    "import pickle as pkl\n",
    "import umap\n",
    "from pathlib import Path\n",
    "matplotlib.rcParams.update({'font.size': 18})\n",
    "import gc         # garbage collect library\n",
    "import shutil\n",
    "from fff.evaluate.eval_mnist_fibers import *"
   ]
  },
  {
   "cell_type": "code",
   "execution_count": 2,
   "id": "8a9c1390-71aa-4035-ac25-8e8fb024c99e",
   "metadata": {},
   "outputs": [],
   "source": [
    "save = False\n",
    "plot_dir = \"demo\"\n",
    "if save:\n",
    "    Path(f\"plots/{plot_dir}\").mkdir(parents=True, exist_ok=True)"
   ]
  },
  {
   "cell_type": "code",
   "execution_count": 3,
   "id": "e6c1c580-de0d-492d-89d6-187cff5d16a6",
   "metadata": {},
   "outputs": [],
   "source": [
    "def plot_images_16(data, title, model, n_rows=2, n_columns=9, save=False, plot_dir=\"demo\"):\n",
    "    fig, axes = plt.subplots(nrows=n_rows, ncols=n_columns, figsize=(2*n_columns, 2*n_rows))\n",
    "    for i in range(n_rows):\n",
    "        for j in range(n_columns):\n",
    "            axes[i][j].imshow(data[i*n_columns +j].cpu().reshape(16, 16).T, cmap='gray', vmin=0, vmax=1)\n",
    "            axes[i][j].tick_params(axis='x', which='both', bottom=False, top=False, labelbottom=False)\n",
    "            axes[i][j].tick_params(axis='y', which='both', left=False, right=False, labelleft=False)\n",
    "    fig.suptitle(title)\n",
    "    if save:\n",
    "        plt.savefig(f\"plots/{plot_dir}/{model}/{title}.png\", bbox_inches='tight')"
   ]
  },
  {
   "cell_type": "markdown",
   "id": "7fbd8ae6-4563-4ce4-86b1-bc7a98475ef8",
   "metadata": {},
   "source": [
    "## Subject Model"
   ]
  },
  {
   "cell_type": "markdown",
   "id": "37a46027-6a18-4e46-802b-7ab0ab447be1",
   "metadata": {},
   "source": [
    "First we train a small FIF with 5-dimensional bottleneck on the digit split of EMNIST."
   ]
  },
  {
   "cell_type": "code",
   "execution_count": 4,
   "id": "497bbb58-88a5-4b65-ba36-904a91c11865",
   "metadata": {},
   "outputs": [],
   "source": [
    "hparams_sm_five = fff.fif.FreeFormInjectiveFlowHParams(\n",
    "    noise= 0.05,\n",
    "    data_set= {\"name\": \"mnist_ds\", \"root\": \"data\", \"conditional\": False},\n",
    "    loss_weights= {\"noisy_reconstruction\": 100, \"z_reconstruction_encoder\": 10, \"nll\": 1},\n",
    "    train_models= True,\n",
    "    models= [{\n",
    "        \"name\": \"fff.model.ConvolutionalNeuralNetwork\",\n",
    "        \"latent_dim\": 100,\n",
    "        \"ch_factor\": 32,\n",
    "        \"encoder_spec\": [\n",
    "            [2,4,2,1],\n",
    "            [4,4,2,1],\n",
    "            [8,4,2,1]],\n",
    "        \"decoder_spec\": [\n",
    "            [8,4],\n",
    "            [4,4,2,1],\n",
    "            [1,3,2,1,1]\n",
    "        ]},\n",
    "        {\"name\": \"fff.model.ResNet\",\n",
    "         \"latent_dim\": 5,\n",
    "         \"dropout\": 0.5,\n",
    "         \"layers_spec\": [\n",
    "             [32,32],\n",
    "             [32,32]]}\n",
    "    ],\n",
    "    optimizer= {\n",
    "        \"name\": \"adam\",\n",
    "        \"lr\": 0.0005,\n",
    "        \"weight_decay\": 0.01,\n",
    "    },\n",
    "    max_epochs= 22,\n",
    "    batch_size= 512)"
   ]
  },
  {
   "cell_type": "code",
   "execution_count": 5,
   "id": "d04b03fa-659a-4688-9e7f-13ea71775cad",
   "metadata": {},
   "outputs": [
    {
     "name": "stdout",
     "output_type": "stream",
     "text": [
      "torch.Size([240000, 1, 16, 16])\n",
      "cond_dim:  0\n",
      "latent_dim:  5\n"
     ]
    }
   ],
   "source": [
    "subject_model = fff.fif.FreeFormInjectiveFlow(hparams_sm_five)"
   ]
  },
  {
   "cell_type": "code",
   "execution_count": 6,
   "id": "a02cd2d8-470c-4d35-a6e0-886f0c8afa97",
   "metadata": {},
   "outputs": [
    {
     "name": "stderr",
     "output_type": "stream",
     "text": [
      "INFO: GPU available: True (cuda), used: True\n",
      "INFO: GPU available: True (cuda), used: True\n",
      "INFO: TPU available: False, using: 0 TPU cores\n",
      "INFO: TPU available: False, using: 0 TPU cores\n",
      "INFO: IPU available: False, using: 0 IPUs\n",
      "INFO: IPU available: False, using: 0 IPUs\n",
      "INFO: HPU available: False, using: 0 HPUs\n",
      "INFO: HPU available: False, using: 0 HPUs\n",
      "INFO: The following callbacks returned in `LightningModule.configure_callbacks` will override existing callbacks passed to Trainer: ModelCheckpoint\n",
      "INFO: The following callbacks returned in `LightningModule.configure_callbacks` will override existing callbacks passed to Trainer: ModelCheckpoint\n",
      "WARNING: Missing logger folder: subject_models/fif_5d\n",
      "WARNING: Missing logger folder: subject_models/fif_5d\n",
      "2024-11-18 13:05:27.429535: I tensorflow/tsl/cuda/cudart_stub.cc:28] Could not find cuda drivers on your machine, GPU will not be used.\n",
      "2024-11-18 13:05:27.460818: I tensorflow/core/platform/cpu_feature_guard.cc:182] This TensorFlow binary is optimized to use available CPU instructions in performance-critical operations.\n",
      "To enable the following instructions: AVX2 FMA, in other operations, rebuild TensorFlow with the appropriate compiler flags.\n",
      "2024-11-18 13:05:28.064186: W tensorflow/compiler/tf2tensorrt/utils/py_utils.cc:38] TF-TRT Warning: Could not find TensorRT\n",
      "INFO: LOCAL_RANK: 0 - CUDA_VISIBLE_DEVICES: [0]\n",
      "INFO: LOCAL_RANK: 0 - CUDA_VISIBLE_DEVICES: [0]\n",
      "INFO: \n",
      "  | Name   | Type       | Params\n",
      "--------------------------------------\n",
      "0 | models | Sequential | 1.7 M \n",
      "--------------------------------------\n",
      "1.7 M     Trainable params\n",
      "0         Non-trainable params\n",
      "1.7 M     Total params\n",
      "6.920     Total estimated model params size (MB)\n",
      "INFO: \n",
      "  | Name   | Type       | Params\n",
      "--------------------------------------\n",
      "0 | models | Sequential | 1.7 M \n",
      "--------------------------------------\n",
      "1.7 M     Trainable params\n",
      "0         Non-trainable params\n",
      "1.7 M     Total params\n",
      "6.920     Total estimated model params size (MB)\n"
     ]
    },
    {
     "data": {
      "application/vnd.jupyter.widget-view+json": {
       "model_id": "",
       "version_major": 2,
       "version_minor": 0
      },
      "text/plain": [
       "Sanity Checking: 0it [00:00, ?it/s]"
      ]
     },
     "metadata": {},
     "output_type": "display_data"
    },
    {
     "data": {
      "application/vnd.jupyter.widget-view+json": {
       "model_id": "bd7b139baff4482e83b9cbc15f94ef1f",
       "version_major": 2,
       "version_minor": 0
      },
      "text/plain": [
       "Training: 0it [00:00, ?it/s]"
      ]
     },
     "metadata": {},
     "output_type": "display_data"
    },
    {
     "data": {
      "application/vnd.jupyter.widget-view+json": {
       "model_id": "",
       "version_major": 2,
       "version_minor": 0
      },
      "text/plain": [
       "Validation: 0it [00:00, ?it/s]"
      ]
     },
     "metadata": {},
     "output_type": "display_data"
    },
    {
     "data": {
      "application/vnd.jupyter.widget-view+json": {
       "model_id": "",
       "version_major": 2,
       "version_minor": 0
      },
      "text/plain": [
       "Validation: 0it [00:00, ?it/s]"
      ]
     },
     "metadata": {},
     "output_type": "display_data"
    },
    {
     "data": {
      "application/vnd.jupyter.widget-view+json": {
       "model_id": "",
       "version_major": 2,
       "version_minor": 0
      },
      "text/plain": [
       "Validation: 0it [00:00, ?it/s]"
      ]
     },
     "metadata": {},
     "output_type": "display_data"
    },
    {
     "data": {
      "application/vnd.jupyter.widget-view+json": {
       "model_id": "",
       "version_major": 2,
       "version_minor": 0
      },
      "text/plain": [
       "Validation: 0it [00:00, ?it/s]"
      ]
     },
     "metadata": {},
     "output_type": "display_data"
    },
    {
     "data": {
      "application/vnd.jupyter.widget-view+json": {
       "model_id": "",
       "version_major": 2,
       "version_minor": 0
      },
      "text/plain": [
       "Validation: 0it [00:00, ?it/s]"
      ]
     },
     "metadata": {},
     "output_type": "display_data"
    },
    {
     "data": {
      "application/vnd.jupyter.widget-view+json": {
       "model_id": "",
       "version_major": 2,
       "version_minor": 0
      },
      "text/plain": [
       "Validation: 0it [00:00, ?it/s]"
      ]
     },
     "metadata": {},
     "output_type": "display_data"
    },
    {
     "data": {
      "application/vnd.jupyter.widget-view+json": {
       "model_id": "",
       "version_major": 2,
       "version_minor": 0
      },
      "text/plain": [
       "Validation: 0it [00:00, ?it/s]"
      ]
     },
     "metadata": {},
     "output_type": "display_data"
    },
    {
     "data": {
      "application/vnd.jupyter.widget-view+json": {
       "model_id": "",
       "version_major": 2,
       "version_minor": 0
      },
      "text/plain": [
       "Validation: 0it [00:00, ?it/s]"
      ]
     },
     "metadata": {},
     "output_type": "display_data"
    },
    {
     "data": {
      "application/vnd.jupyter.widget-view+json": {
       "model_id": "",
       "version_major": 2,
       "version_minor": 0
      },
      "text/plain": [
       "Validation: 0it [00:00, ?it/s]"
      ]
     },
     "metadata": {},
     "output_type": "display_data"
    },
    {
     "data": {
      "application/vnd.jupyter.widget-view+json": {
       "model_id": "",
       "version_major": 2,
       "version_minor": 0
      },
      "text/plain": [
       "Validation: 0it [00:00, ?it/s]"
      ]
     },
     "metadata": {},
     "output_type": "display_data"
    },
    {
     "data": {
      "application/vnd.jupyter.widget-view+json": {
       "model_id": "",
       "version_major": 2,
       "version_minor": 0
      },
      "text/plain": [
       "Validation: 0it [00:00, ?it/s]"
      ]
     },
     "metadata": {},
     "output_type": "display_data"
    },
    {
     "data": {
      "application/vnd.jupyter.widget-view+json": {
       "model_id": "",
       "version_major": 2,
       "version_minor": 0
      },
      "text/plain": [
       "Validation: 0it [00:00, ?it/s]"
      ]
     },
     "metadata": {},
     "output_type": "display_data"
    },
    {
     "data": {
      "application/vnd.jupyter.widget-view+json": {
       "model_id": "",
       "version_major": 2,
       "version_minor": 0
      },
      "text/plain": [
       "Validation: 0it [00:00, ?it/s]"
      ]
     },
     "metadata": {},
     "output_type": "display_data"
    },
    {
     "data": {
      "application/vnd.jupyter.widget-view+json": {
       "model_id": "",
       "version_major": 2,
       "version_minor": 0
      },
      "text/plain": [
       "Validation: 0it [00:00, ?it/s]"
      ]
     },
     "metadata": {},
     "output_type": "display_data"
    },
    {
     "data": {
      "application/vnd.jupyter.widget-view+json": {
       "model_id": "",
       "version_major": 2,
       "version_minor": 0
      },
      "text/plain": [
       "Validation: 0it [00:00, ?it/s]"
      ]
     },
     "metadata": {},
     "output_type": "display_data"
    },
    {
     "data": {
      "application/vnd.jupyter.widget-view+json": {
       "model_id": "",
       "version_major": 2,
       "version_minor": 0
      },
      "text/plain": [
       "Validation: 0it [00:00, ?it/s]"
      ]
     },
     "metadata": {},
     "output_type": "display_data"
    },
    {
     "data": {
      "application/vnd.jupyter.widget-view+json": {
       "model_id": "",
       "version_major": 2,
       "version_minor": 0
      },
      "text/plain": [
       "Validation: 0it [00:00, ?it/s]"
      ]
     },
     "metadata": {},
     "output_type": "display_data"
    },
    {
     "data": {
      "application/vnd.jupyter.widget-view+json": {
       "model_id": "",
       "version_major": 2,
       "version_minor": 0
      },
      "text/plain": [
       "Validation: 0it [00:00, ?it/s]"
      ]
     },
     "metadata": {},
     "output_type": "display_data"
    },
    {
     "data": {
      "application/vnd.jupyter.widget-view+json": {
       "model_id": "",
       "version_major": 2,
       "version_minor": 0
      },
      "text/plain": [
       "Validation: 0it [00:00, ?it/s]"
      ]
     },
     "metadata": {},
     "output_type": "display_data"
    },
    {
     "data": {
      "application/vnd.jupyter.widget-view+json": {
       "model_id": "",
       "version_major": 2,
       "version_minor": 0
      },
      "text/plain": [
       "Validation: 0it [00:00, ?it/s]"
      ]
     },
     "metadata": {},
     "output_type": "display_data"
    },
    {
     "data": {
      "application/vnd.jupyter.widget-view+json": {
       "model_id": "",
       "version_major": 2,
       "version_minor": 0
      },
      "text/plain": [
       "Validation: 0it [00:00, ?it/s]"
      ]
     },
     "metadata": {},
     "output_type": "display_data"
    },
    {
     "data": {
      "application/vnd.jupyter.widget-view+json": {
       "model_id": "",
       "version_major": 2,
       "version_minor": 0
      },
      "text/plain": [
       "Validation: 0it [00:00, ?it/s]"
      ]
     },
     "metadata": {},
     "output_type": "display_data"
    },
    {
     "name": "stderr",
     "output_type": "stream",
     "text": [
      "INFO: `Trainer.fit` stopped: `max_epochs=22` reached.\n",
      "INFO: `Trainer.fit` stopped: `max_epochs=22` reached.\n"
     ]
    },
    {
     "data": {
      "text/plain": [
       "{'training/z 1D-Wasserstein-1': 0.12074880301952362,\n",
       " 'training/z std': 0.8098803162574768,\n",
       " 'training/loss': 234.887451171875,\n",
       " 'training/nll': 1.2796332836151123,\n",
       " 'training/reconstruction': 2.167001485824585,\n",
       " 'training/noisy_reconstruction': 2.3270161151885986,\n",
       " 'training/sqr_reconstruction': 6.100991725921631,\n",
       " 'training/z_reconstruction_encoder': 0.09062161296606064,\n",
       " 'validation/z 1D-Wasserstein-1': 0.1672889143228531,\n",
       " 'validation/z std': 0.18497098982334137,\n",
       " 'validation/loss': 259.7740783691406,\n",
       " 'validation/nll': 14.22907829284668,\n",
       " 'validation/vol_change_encoder': -4.354639053344727,\n",
       " 'validation/vol_change_decoder': -7.993612289428711,\n",
       " 'validation/nll_encoder': 10.590104103088379,\n",
       " 'validation/nll_decoder': 14.22907829284668,\n",
       " 'validation/reconstruction': 2.2951912879943848,\n",
       " 'validation/noisy_reconstruction': 2.4453163146972656,\n",
       " 'validation/sqr_reconstruction': 6.64643669128418,\n",
       " 'validation/masked_reconstruction': 5.566534519195557,\n",
       " 'validation/z_reconstruction_encoder': 0.10133753716945648,\n",
       " 'validation/fiber_loss': nan,\n",
       " 'validation/z_sample_reconstruction': 0.30626630783081055}"
      ]
     },
     "execution_count": 6,
     "metadata": {},
     "output_type": "execute_result"
    }
   ],
   "source": [
    "subject_model.fit(logger_kwargs=dict(name=\"fif_5d\", save_dir=\"subject_models\"))"
   ]
  },
  {
   "cell_type": "code",
   "execution_count": 6,
   "id": "e8e575e4-e317-4180-b9a8-5e64783b1e02",
   "metadata": {},
   "outputs": [],
   "source": [
    "sm_path = \"subject_models/fif_5d/version_0\" # Check at which version the subject_model is saved!!!!"
   ]
  },
  {
   "cell_type": "code",
   "execution_count": 7,
   "id": "72381345-c864-4e2a-a109-5444475f07cf",
   "metadata": {},
   "outputs": [
    {
     "name": "stdout",
     "output_type": "stream",
     "text": [
      "torch.Size([240000, 1, 16, 16])\n",
      "cond_dim:  0\n",
      "latent_dim:  5\n"
     ]
    }
   ],
   "source": [
    "#If already trained:\n",
    "subject_model = fff.fif.FreeFormInjectiveFlow.load_from_checkpoint(sm_path + \"/checkpoints/last.ckpt\")"
   ]
  },
  {
   "cell_type": "code",
   "execution_count": 8,
   "id": "dcf2c857-15da-4815-b0ec-2cb84df3e77b",
   "metadata": {},
   "outputs": [
    {
     "data": {
      "text/plain": [
       "<torch.autograd.grad_mode.set_grad_enabled at 0x736bd405f0d0>"
      ]
     },
     "execution_count": 8,
     "metadata": {},
     "output_type": "execute_result"
    }
   ],
   "source": [
    "torch.set_grad_enabled(False)"
   ]
  },
  {
   "cell_type": "code",
   "execution_count": 9,
   "id": "f60437bd-cf06-4ad3-938a-36dba22befc7",
   "metadata": {},
   "outputs": [],
   "source": [
    "def save_and_plot_data(rectangular_flow, name):\n",
    "    train_data = rectangular_flow.train_data[:]\n",
    "    val_data = rectangular_flow.val_data[:]\n",
    "    test_data = rectangular_flow.test_data[:]\n",
    "    \n",
    "    conditioned = rectangular_flow.apply_conditions(train_data)\n",
    "    train_samples = conditioned.x0\n",
    "    c_t = conditioned.condition\n",
    "    \n",
    "    conditioned = rectangular_flow.apply_conditions(val_data)\n",
    "    val_samples = conditioned.x0\n",
    "    c_v = conditioned.condition\n",
    "\n",
    "    conditioned = rectangular_flow.apply_conditions(test_data)\n",
    "    test_samples = conditioned.x0\n",
    "    c_test = conditioned.condition\n",
    "    \n",
    "    device = rectangular_flow.device\n",
    "    print(\"encoding traindata...\")\n",
    "    batch_size = rectangular_flow.hparams.batch_size\n",
    "    z_train = torch.cat([\n",
    "        rectangular_flow.encode(batch.to(device), c_batch.to(device)).cpu()\n",
    "        for batch, c_batch in zip(train_samples.split(batch_size), c_t.split(batch_size))\n",
    "    ])\n",
    "    print(\"encoding valdata...\")\n",
    "    z_val = torch.cat([\n",
    "        rectangular_flow.encode(batch.to(device), c_batch.to(device)).cpu()\n",
    "        for batch, c_batch in zip(val_samples.split(batch_size), c_v.split(batch_size))\n",
    "    ])\n",
    "    print(\"encoding testdata...\")\n",
    "    z_test = torch.cat([\n",
    "        rectangular_flow.encode(batch.to(device), c_batch.to(device)).cpu()\n",
    "        for batch, c_batch in zip(test_samples.split(batch_size), c_test.split(batch_size))\n",
    "    ])\n",
    "\n",
    "    print(\"save data...\")\n",
    "    data = {}\n",
    "    \n",
    "    data[\"train_x\"] = train_samples.cpu().numpy()\n",
    "    data[\"train_y\"] = z_train.cpu().numpy()\n",
    "    \n",
    "    data[\"val_x\"] = val_samples.cpu().numpy()\n",
    "    data[\"val_y\"] = z_val.cpu().numpy()\n",
    "\n",
    "    data[\"test_x\"] = test_samples.cpu().numpy()\n",
    "    data[\"test_y\"] = z_test.cpu().numpy()\n",
    "\n",
    "    \n",
    "    Path(f\"data/{name}/subject_model\").mkdir(parents=True, exist_ok=True)\n",
    "    fileName = f\"data/{name}/data\"\n",
    "    fileObject = open(fileName, 'wb')\n",
    "    \n",
    "    pkl.dump(data, fileObject)\n",
    "    fileObject.close()\n",
    "    shutil.copytree(sm_path, f\"data/{name}/subject_model\", symlinks=False, ignore=None,ignore_dangling_symlinks=False, dirs_exist_ok=True)\n",
    "\n",
    "    print(\"evaluate model...\")\n",
    "    print(\"reconstructing...\")\n",
    "    reconstruction1 = torch.cat([\n",
    "        rectangular_flow.decode(batch.to(device), c_batch.to(device)).cpu()\n",
    "        for batch, c_batch in zip(z_test.split(batch_size), c_test.split(batch_size))\n",
    "    ])\n",
    "   \n",
    "    print(\"sampling...\")\n",
    "    z_sampled = torch.randn_like(z_test)\n",
    "    x_sampled = torch.cat([\n",
    "        rectangular_flow.decode(batch.to(device), c_batch.to(device)).detach().cpu()\n",
    "        for batch, c_batch in zip(z_sampled.split(batch_size), c_test.split(batch_size))\n",
    "    ])\n",
    "    plot_images_16(test_samples, \"Original\", \"subject_model\")\n",
    "    plot_images_16(reconstruction1, \"Reconstruction\", \"subject_model\")\n",
    "    plot_images_16(x_sampled, \"Samples\", \"subject_model\")\n",
    "    return data[\"test_y\"]"
   ]
  },
  {
   "cell_type": "code",
   "execution_count": 10,
   "id": "bdfd995c-5189-419f-8451-46995d792d35",
   "metadata": {},
   "outputs": [
    {
     "name": "stdout",
     "output_type": "stream",
     "text": [
      "encoding traindata...\n",
      "encoding valdata...\n",
      "encoding testdata...\n",
      "save data...\n",
      "evaluate model...\n",
      "reconstructing...\n",
      "sampling...\n"
     ]
    },
    {
     "data": {
      "image/png": "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",
      "text/plain": [
       "<Figure size 1800x400 with 18 Axes>"
      ]
     },
     "metadata": {},
     "output_type": "display_data"
    },
    {
     "data": {
      "image/png": "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",
      "text/plain": [
       "<Figure size 1800x400 with 18 Axes>"
      ]
     },
     "metadata": {},
     "output_type": "display_data"
    },
    {
     "data": {
      "image/png": "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",
      "text/plain": [
       "<Figure size 1800x400 with 18 Axes>"
      ]
     },
     "metadata": {},
     "output_type": "display_data"
    }
   ],
   "source": [
    "test_data_representation = save_and_plot_data(subject_model, name=\"16EMNIST_F5F_demo\")"
   ]
  },
  {
   "cell_type": "code",
   "execution_count": 11,
   "id": "10aee42a-8d04-4a84-95d9-e29202b6bb78",
   "metadata": {},
   "outputs": [],
   "source": [
    "reducer = umap.UMAP()\n",
    "embedding = reducer.fit_transform(test_data_representation)"
   ]
  },
  {
   "cell_type": "code",
   "execution_count": 12,
   "id": "0ad7ee67-52ed-4303-8ad1-7232bd04fe28",
   "metadata": {},
   "outputs": [
    {
     "data": {
      "image/png": "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",
      "text/plain": [
       "<Figure size 1200x1100 with 1 Axes>"
      ]
     },
     "metadata": {},
     "output_type": "display_data"
    }
   ],
   "source": [
    "plt.figure(figsize=[12,11])\n",
    "plt.scatter(\n",
    "    embedding[:, 0],\n",
    "    embedding[:, 1],\n",
    "    s=0.1\n",
    ")\n",
    "plt.tick_params(axis='x', which='both', bottom=False, top=False, labelbottom=False)\n",
    "plt.tick_params(axis='y', which='both', left=False, right=False, labelleft=False)\n",
    "plt.title(\"Umap of 5-dimensional latent space\")\n",
    "if save:\n",
    "    plt.savefig(f\"plots/{plot_dir}/subject_model/UMAP.png\", bbox_inches='tight')"
   ]
  },
  {
   "cell_type": "markdown",
   "id": "05b627ff-c0af-4a34-9dca-382621206c43",
   "metadata": {},
   "source": [
    "## Train Lossless VAE for the latent space"
   ]
  },
  {
   "cell_type": "code",
   "execution_count": 13,
   "id": "1008870c-b39c-4877-97ca-a66890dc19c0",
   "metadata": {},
   "outputs": [],
   "source": [
    "hparams_vae = fff.fif.FreeFormInjectiveFlowHParams(\n",
    "    vae = True,\n",
    "    eval_all = False,\n",
    "    noise = 0.01,\n",
    "    data_set = {\"name\": \"mnist_ds\", \"root\": \"data\", \"conditional\": False},\n",
    "    loss_weights = {\"kl\": 1, \"noisy_reconstruction\": 1000},\n",
    "    train_models = True,\n",
    "    models = [{\n",
    "        \"name\": \"fff.model.ConvolutionalNeuralNetwork\",\n",
    "        \"latent_dim\": 100,\n",
    "        \"ch_factor\": 32,\n",
    "        \"encoder_spec\": [\n",
    "            [2,4,2,1],\n",
    "            [4,4,2,1],\n",
    "            [8,4,2,1]],\n",
    "        \"decoder_spec\": [\n",
    "            [8,4],\n",
    "            [4,4,2,1],\n",
    "            [1,3,2,1,1]\n",
    "        ]},\n",
    "        {\"name\": \"fff.model.VarResNet\",\n",
    "         \"latent_dim\": 64,\n",
    "         \"layers_spec\": [\n",
    "             [512,512],\n",
    "             [512,512]]}\n",
    "    ],\n",
    "    optimizer = {\n",
    "        \"name\": \"Adam\",\n",
    "        \"lr\": 0.0005,\n",
    "        \"weight_decay\": 0.01,\n",
    "    },\n",
    "    max_epochs = 650,\n",
    "    batch_size = 512)"
   ]
  },
  {
   "cell_type": "code",
   "execution_count": 14,
   "id": "b3ac1921-8a6b-4439-8041-cac16c473136",
   "metadata": {},
   "outputs": [
    {
     "name": "stdout",
     "output_type": "stream",
     "text": [
      "torch.Size([240000, 1, 16, 16])\n",
      "cond_dim:  0\n",
      "latent_dim:  64\n"
     ]
    }
   ],
   "source": [
    "VAE = fff.fif.FreeFormInjectiveFlow(hparams_vae)"
   ]
  },
  {
   "cell_type": "code",
   "execution_count": null,
   "id": "7b79489a-7650-46b5-93de-5bdb3d3b8d87",
   "metadata": {},
   "outputs": [
    {
     "name": "stderr",
     "output_type": "stream",
     "text": [
      "INFO: GPU available: True (cuda), used: True\n",
      "INFO: GPU available: True (cuda), used: True\n",
      "INFO: TPU available: False, using: 0 TPU cores\n",
      "INFO: TPU available: False, using: 0 TPU cores\n",
      "INFO: IPU available: False, using: 0 IPUs\n",
      "INFO: IPU available: False, using: 0 IPUs\n",
      "INFO: HPU available: False, using: 0 HPUs\n",
      "INFO: HPU available: False, using: 0 HPUs\n",
      "INFO: The following callbacks returned in `LightningModule.configure_callbacks` will override existing callbacks passed to Trainer: ModelCheckpoint\n",
      "INFO: The following callbacks returned in `LightningModule.configure_callbacks` will override existing callbacks passed to Trainer: ModelCheckpoint\n",
      "WARNING: Missing logger folder: lossless_ae/vae\n",
      "WARNING: Missing logger folder: lossless_ae/vae\n",
      "INFO: LOCAL_RANK: 0 - CUDA_VISIBLE_DEVICES: [0]\n",
      "INFO: LOCAL_RANK: 0 - CUDA_VISIBLE_DEVICES: [0]\n",
      "INFO: \n",
      "  | Name   | Type       | Params\n",
      "--------------------------------------\n",
      "0 | models | Sequential | 3.2 M \n",
      "--------------------------------------\n",
      "3.2 M     Trainable params\n",
      "0         Non-trainable params\n",
      "3.2 M     Total params\n",
      "12.723    Total estimated model params size (MB)\n",
      "INFO: \n",
      "  | Name   | Type       | Params\n",
      "--------------------------------------\n",
      "0 | models | Sequential | 3.2 M \n",
      "--------------------------------------\n",
      "3.2 M     Trainable params\n",
      "0         Non-trainable params\n",
      "3.2 M     Total params\n",
      "12.723    Total estimated model params size (MB)\n"
     ]
    },
    {
     "data": {
      "application/vnd.jupyter.widget-view+json": {
       "model_id": "",
       "version_major": 2,
       "version_minor": 0
      },
      "text/plain": [
       "Sanity Checking: 0it [00:00, ?it/s]"
      ]
     },
     "metadata": {},
     "output_type": "display_data"
    },
    {
     "data": {
      "application/vnd.jupyter.widget-view+json": {
       "model_id": "22ff22c4e9f44aad9c5ea7968d0e881d",
       "version_major": 2,
       "version_minor": 0
      },
      "text/plain": [
       "Training: 0it [00:00, ?it/s]"
      ]
     },
     "metadata": {},
     "output_type": "display_data"
    },
    {
     "data": {
      "application/vnd.jupyter.widget-view+json": {
       "model_id": "",
       "version_major": 2,
       "version_minor": 0
      },
      "text/plain": [
       "Validation: 0it [00:00, ?it/s]"
      ]
     },
     "metadata": {},
     "output_type": "display_data"
    },
    {
     "data": {
      "application/vnd.jupyter.widget-view+json": {
       "model_id": "",
       "version_major": 2,
       "version_minor": 0
      },
      "text/plain": [
       "Validation: 0it [00:00, ?it/s]"
      ]
     },
     "metadata": {},
     "output_type": "display_data"
    },
    {
     "data": {
      "application/vnd.jupyter.widget-view+json": {
       "model_id": "",
       "version_major": 2,
       "version_minor": 0
      },
      "text/plain": [
       "Validation: 0it [00:00, ?it/s]"
      ]
     },
     "metadata": {},
     "output_type": "display_data"
    },
    {
     "data": {
      "application/vnd.jupyter.widget-view+json": {
       "model_id": "",
       "version_major": 2,
       "version_minor": 0
      },
      "text/plain": [
       "Validation: 0it [00:00, ?it/s]"
      ]
     },
     "metadata": {},
     "output_type": "display_data"
    },
    {
     "data": {
      "application/vnd.jupyter.widget-view+json": {
       "model_id": "",
       "version_major": 2,
       "version_minor": 0
      },
      "text/plain": [
       "Validation: 0it [00:00, ?it/s]"
      ]
     },
     "metadata": {},
     "output_type": "display_data"
    },
    {
     "data": {
      "application/vnd.jupyter.widget-view+json": {
       "model_id": "",
       "version_major": 2,
       "version_minor": 0
      },
      "text/plain": [
       "Validation: 0it [00:00, ?it/s]"
      ]
     },
     "metadata": {},
     "output_type": "display_data"
    },
    {
     "data": {
      "application/vnd.jupyter.widget-view+json": {
       "model_id": "",
       "version_major": 2,
       "version_minor": 0
      },
      "text/plain": [
       "Validation: 0it [00:00, ?it/s]"
      ]
     },
     "metadata": {},
     "output_type": "display_data"
    },
    {
     "data": {
      "application/vnd.jupyter.widget-view+json": {
       "model_id": "",
       "version_major": 2,
       "version_minor": 0
      },
      "text/plain": [
       "Validation: 0it [00:00, ?it/s]"
      ]
     },
     "metadata": {},
     "output_type": "display_data"
    },
    {
     "data": {
      "application/vnd.jupyter.widget-view+json": {
       "model_id": "",
       "version_major": 2,
       "version_minor": 0
      },
      "text/plain": [
       "Validation: 0it [00:00, ?it/s]"
      ]
     },
     "metadata": {},
     "output_type": "display_data"
    },
    {
     "data": {
      "application/vnd.jupyter.widget-view+json": {
       "model_id": "",
       "version_major": 2,
       "version_minor": 0
      },
      "text/plain": [
       "Validation: 0it [00:00, ?it/s]"
      ]
     },
     "metadata": {},
     "output_type": "display_data"
    },
    {
     "data": {
      "application/vnd.jupyter.widget-view+json": {
       "model_id": "",
       "version_major": 2,
       "version_minor": 0
      },
      "text/plain": [
       "Validation: 0it [00:00, ?it/s]"
      ]
     },
     "metadata": {},
     "output_type": "display_data"
    },
    {
     "data": {
      "application/vnd.jupyter.widget-view+json": {
       "model_id": "",
       "version_major": 2,
       "version_minor": 0
      },
      "text/plain": [
       "Validation: 0it [00:00, ?it/s]"
      ]
     },
     "metadata": {},
     "output_type": "display_data"
    },
    {
     "data": {
      "application/vnd.jupyter.widget-view+json": {
       "model_id": "",
       "version_major": 2,
       "version_minor": 0
      },
      "text/plain": [
       "Validation: 0it [00:00, ?it/s]"
      ]
     },
     "metadata": {},
     "output_type": "display_data"
    },
    {
     "data": {
      "application/vnd.jupyter.widget-view+json": {
       "model_id": "",
       "version_major": 2,
       "version_minor": 0
      },
      "text/plain": [
       "Validation: 0it [00:00, ?it/s]"
      ]
     },
     "metadata": {},
     "output_type": "display_data"
    },
    {
     "data": {
      "application/vnd.jupyter.widget-view+json": {
       "model_id": "",
       "version_major": 2,
       "version_minor": 0
      },
      "text/plain": [
       "Validation: 0it [00:00, ?it/s]"
      ]
     },
     "metadata": {},
     "output_type": "display_data"
    },
    {
     "data": {
      "application/vnd.jupyter.widget-view+json": {
       "model_id": "",
       "version_major": 2,
       "version_minor": 0
      },
      "text/plain": [
       "Validation: 0it [00:00, ?it/s]"
      ]
     },
     "metadata": {},
     "output_type": "display_data"
    },
    {
     "data": {
      "application/vnd.jupyter.widget-view+json": {
       "model_id": "",
       "version_major": 2,
       "version_minor": 0
      },
      "text/plain": [
       "Validation: 0it [00:00, ?it/s]"
      ]
     },
     "metadata": {},
     "output_type": "display_data"
    },
    {
     "data": {
      "application/vnd.jupyter.widget-view+json": {
       "model_id": "",
       "version_major": 2,
       "version_minor": 0
      },
      "text/plain": [
       "Validation: 0it [00:00, ?it/s]"
      ]
     },
     "metadata": {},
     "output_type": "display_data"
    },
    {
     "data": {
      "application/vnd.jupyter.widget-view+json": {
       "model_id": "",
       "version_major": 2,
       "version_minor": 0
      },
      "text/plain": [
       "Validation: 0it [00:00, ?it/s]"
      ]
     },
     "metadata": {},
     "output_type": "display_data"
    },
    {
     "data": {
      "application/vnd.jupyter.widget-view+json": {
       "model_id": "",
       "version_major": 2,
       "version_minor": 0
      },
      "text/plain": [
       "Validation: 0it [00:00, ?it/s]"
      ]
     },
     "metadata": {},
     "output_type": "display_data"
    },
    {
     "data": {
      "application/vnd.jupyter.widget-view+json": {
       "model_id": "",
       "version_major": 2,
       "version_minor": 0
      },
      "text/plain": [
       "Validation: 0it [00:00, ?it/s]"
      ]
     },
     "metadata": {},
     "output_type": "display_data"
<<<<<<< HEAD
=======
    },
    {
     "data": {
      "application/vnd.jupyter.widget-view+json": {
       "model_id": "",
       "version_major": 2,
       "version_minor": 0
      },
      "text/plain": [
       "Validation: 0it [00:00, ?it/s]"
      ]
     },
     "metadata": {},
     "output_type": "display_data"
    },
    {
     "data": {
      "application/vnd.jupyter.widget-view+json": {
       "model_id": "",
       "version_major": 2,
       "version_minor": 0
      },
      "text/plain": [
       "Validation: 0it [00:00, ?it/s]"
      ]
     },
     "metadata": {},
     "output_type": "display_data"
    },
    {
     "data": {
      "application/vnd.jupyter.widget-view+json": {
       "model_id": "",
       "version_major": 2,
       "version_minor": 0
      },
      "text/plain": [
       "Validation: 0it [00:00, ?it/s]"
      ]
     },
     "metadata": {},
     "output_type": "display_data"
    },
    {
     "data": {
      "application/vnd.jupyter.widget-view+json": {
       "model_id": "",
       "version_major": 2,
       "version_minor": 0
      },
      "text/plain": [
       "Validation: 0it [00:00, ?it/s]"
      ]
     },
     "metadata": {},
     "output_type": "display_data"
    },
    {
     "data": {
      "application/vnd.jupyter.widget-view+json": {
       "model_id": "",
       "version_major": 2,
       "version_minor": 0
      },
      "text/plain": [
       "Validation: 0it [00:00, ?it/s]"
      ]
     },
     "metadata": {},
     "output_type": "display_data"
    },
    {
     "data": {
      "application/vnd.jupyter.widget-view+json": {
       "model_id": "",
       "version_major": 2,
       "version_minor": 0
      },
      "text/plain": [
       "Validation: 0it [00:00, ?it/s]"
      ]
     },
     "metadata": {},
     "output_type": "display_data"
    },
    {
     "data": {
      "application/vnd.jupyter.widget-view+json": {
       "model_id": "",
       "version_major": 2,
       "version_minor": 0
      },
      "text/plain": [
       "Validation: 0it [00:00, ?it/s]"
      ]
     },
     "metadata": {},
     "output_type": "display_data"
    },
    {
     "data": {
      "application/vnd.jupyter.widget-view+json": {
       "model_id": "",
       "version_major": 2,
       "version_minor": 0
      },
      "text/plain": [
       "Validation: 0it [00:00, ?it/s]"
      ]
     },
     "metadata": {},
     "output_type": "display_data"
    },
    {
     "data": {
      "application/vnd.jupyter.widget-view+json": {
       "model_id": "",
       "version_major": 2,
       "version_minor": 0
      },
      "text/plain": [
       "Validation: 0it [00:00, ?it/s]"
      ]
     },
     "metadata": {},
     "output_type": "display_data"
    },
    {
     "data": {
      "application/vnd.jupyter.widget-view+json": {
       "model_id": "",
       "version_major": 2,
       "version_minor": 0
      },
      "text/plain": [
       "Validation: 0it [00:00, ?it/s]"
      ]
     },
     "metadata": {},
     "output_type": "display_data"
    },
    {
     "data": {
      "application/vnd.jupyter.widget-view+json": {
       "model_id": "",
       "version_major": 2,
       "version_minor": 0
      },
      "text/plain": [
       "Validation: 0it [00:00, ?it/s]"
      ]
     },
     "metadata": {},
     "output_type": "display_data"
    },
    {
     "data": {
      "application/vnd.jupyter.widget-view+json": {
       "model_id": "",
       "version_major": 2,
       "version_minor": 0
      },
      "text/plain": [
       "Validation: 0it [00:00, ?it/s]"
      ]
     },
     "metadata": {},
     "output_type": "display_data"
    },
    {
     "data": {
      "application/vnd.jupyter.widget-view+json": {
       "model_id": "",
       "version_major": 2,
       "version_minor": 0
      },
      "text/plain": [
       "Validation: 0it [00:00, ?it/s]"
      ]
     },
     "metadata": {},
     "output_type": "display_data"
    },
    {
     "data": {
      "application/vnd.jupyter.widget-view+json": {
       "model_id": "",
       "version_major": 2,
       "version_minor": 0
      },
      "text/plain": [
       "Validation: 0it [00:00, ?it/s]"
      ]
     },
     "metadata": {},
     "output_type": "display_data"
    },
    {
     "data": {
      "application/vnd.jupyter.widget-view+json": {
       "model_id": "",
       "version_major": 2,
       "version_minor": 0
      },
      "text/plain": [
       "Validation: 0it [00:00, ?it/s]"
      ]
     },
     "metadata": {},
     "output_type": "display_data"
    },
    {
     "data": {
      "application/vnd.jupyter.widget-view+json": {
       "model_id": "",
       "version_major": 2,
       "version_minor": 0
      },
      "text/plain": [
       "Validation: 0it [00:00, ?it/s]"
      ]
     },
     "metadata": {},
     "output_type": "display_data"
    },
    {
     "data": {
      "application/vnd.jupyter.widget-view+json": {
       "model_id": "",
       "version_major": 2,
       "version_minor": 0
      },
      "text/plain": [
       "Validation: 0it [00:00, ?it/s]"
      ]
     },
     "metadata": {},
     "output_type": "display_data"
    },
    {
     "data": {
      "application/vnd.jupyter.widget-view+json": {
       "model_id": "",
       "version_major": 2,
       "version_minor": 0
      },
      "text/plain": [
       "Validation: 0it [00:00, ?it/s]"
      ]
     },
     "metadata": {},
     "output_type": "display_data"
    },
    {
     "data": {
      "application/vnd.jupyter.widget-view+json": {
       "model_id": "",
       "version_major": 2,
       "version_minor": 0
      },
      "text/plain": [
       "Validation: 0it [00:00, ?it/s]"
      ]
     },
     "metadata": {},
     "output_type": "display_data"
    },
    {
     "data": {
      "application/vnd.jupyter.widget-view+json": {
       "model_id": "",
       "version_major": 2,
       "version_minor": 0
      },
      "text/plain": [
       "Validation: 0it [00:00, ?it/s]"
      ]
     },
     "metadata": {},
     "output_type": "display_data"
    },
    {
     "data": {
      "application/vnd.jupyter.widget-view+json": {
       "model_id": "",
       "version_major": 2,
       "version_minor": 0
      },
      "text/plain": [
       "Validation: 0it [00:00, ?it/s]"
      ]
     },
     "metadata": {},
     "output_type": "display_data"
    },
    {
     "data": {
      "application/vnd.jupyter.widget-view+json": {
       "model_id": "",
       "version_major": 2,
       "version_minor": 0
      },
      "text/plain": [
       "Validation: 0it [00:00, ?it/s]"
      ]
     },
     "metadata": {},
     "output_type": "display_data"
    },
    {
     "data": {
      "application/vnd.jupyter.widget-view+json": {
       "model_id": "",
       "version_major": 2,
       "version_minor": 0
      },
      "text/plain": [
       "Validation: 0it [00:00, ?it/s]"
      ]
     },
     "metadata": {},
     "output_type": "display_data"
    },
    {
     "data": {
      "application/vnd.jupyter.widget-view+json": {
       "model_id": "",
       "version_major": 2,
       "version_minor": 0
      },
      "text/plain": [
       "Validation: 0it [00:00, ?it/s]"
      ]
     },
     "metadata": {},
     "output_type": "display_data"
    },
    {
     "data": {
      "application/vnd.jupyter.widget-view+json": {
       "model_id": "",
       "version_major": 2,
       "version_minor": 0
      },
      "text/plain": [
       "Validation: 0it [00:00, ?it/s]"
      ]
     },
     "metadata": {},
     "output_type": "display_data"
    },
    {
     "data": {
      "application/vnd.jupyter.widget-view+json": {
       "model_id": "",
       "version_major": 2,
       "version_minor": 0
      },
      "text/plain": [
       "Validation: 0it [00:00, ?it/s]"
      ]
     },
     "metadata": {},
     "output_type": "display_data"
    },
    {
     "data": {
      "application/vnd.jupyter.widget-view+json": {
       "model_id": "125409b47fb245c3ba550ceb0e8c0f9e",
       "version_major": 2,
       "version_minor": 0
      },
      "text/plain": [
       "Validation: 0it [00:00, ?it/s]"
      ]
     },
     "metadata": {},
     "output_type": "display_data"
    },
    {
     "data": {
      "application/vnd.jupyter.widget-view+json": {
       "model_id": "ab248d95bafd407cbcc8a8dc064cb203",
       "version_major": 2,
       "version_minor": 0
      },
      "text/plain": [
       "Validation: 0it [00:00, ?it/s]"
      ]
     },
     "metadata": {},
     "output_type": "display_data"
    },
    {
     "data": {
      "application/vnd.jupyter.widget-view+json": {
       "model_id": "1d58a73fccb24dbf85dafbe8e462c97d",
       "version_major": 2,
       "version_minor": 0
      },
      "text/plain": [
       "Validation: 0it [00:00, ?it/s]"
      ]
     },
     "metadata": {},
     "output_type": "display_data"
    },
    {
     "data": {
      "application/vnd.jupyter.widget-view+json": {
       "model_id": "b528555e470f43cfb7c1a53c4a6f59f6",
       "version_major": 2,
       "version_minor": 0
      },
      "text/plain": [
       "Validation: 0it [00:00, ?it/s]"
      ]
     },
     "metadata": {},
     "output_type": "display_data"
    },
    {
     "data": {
      "application/vnd.jupyter.widget-view+json": {
       "model_id": "dd7c1eaad2c74ca8902f09d684b2cada",
       "version_major": 2,
       "version_minor": 0
      },
      "text/plain": [
       "Validation: 0it [00:00, ?it/s]"
      ]
     },
     "metadata": {},
     "output_type": "display_data"
    },
    {
     "data": {
      "application/vnd.jupyter.widget-view+json": {
       "model_id": "a1f1b32e06ea40f5b2c207a9f2d5c9ba",
       "version_major": 2,
       "version_minor": 0
      },
      "text/plain": [
       "Validation: 0it [00:00, ?it/s]"
      ]
     },
     "metadata": {},
     "output_type": "display_data"
    },
    {
     "data": {
      "application/vnd.jupyter.widget-view+json": {
       "model_id": "0f1f008d442e4356914203c95cd745d7",
       "version_major": 2,
       "version_minor": 0
      },
      "text/plain": [
       "Validation: 0it [00:00, ?it/s]"
      ]
     },
     "metadata": {},
     "output_type": "display_data"
    },
    {
     "data": {
      "application/vnd.jupyter.widget-view+json": {
       "model_id": "6e29c88071af411d867286e7ad1f465e",
       "version_major": 2,
       "version_minor": 0
      },
      "text/plain": [
       "Validation: 0it [00:00, ?it/s]"
      ]
     },
     "metadata": {},
     "output_type": "display_data"
    },
    {
     "data": {
      "application/vnd.jupyter.widget-view+json": {
       "model_id": "f92cadc9909f422bba170733b41dc22e",
       "version_major": 2,
       "version_minor": 0
      },
      "text/plain": [
       "Validation: 0it [00:00, ?it/s]"
      ]
     },
     "metadata": {},
     "output_type": "display_data"
    },
    {
     "data": {
      "application/vnd.jupyter.widget-view+json": {
       "model_id": "afa4115e1c64479184728f701e88ccc7",
       "version_major": 2,
       "version_minor": 0
      },
      "text/plain": [
       "Validation: 0it [00:00, ?it/s]"
      ]
     },
     "metadata": {},
     "output_type": "display_data"
    },
    {
     "data": {
      "application/vnd.jupyter.widget-view+json": {
       "model_id": "5a7a1ba91745477a960c7b6b751d087b",
       "version_major": 2,
       "version_minor": 0
      },
      "text/plain": [
       "Validation: 0it [00:00, ?it/s]"
      ]
     },
     "metadata": {},
     "output_type": "display_data"
    },
    {
     "data": {
      "application/vnd.jupyter.widget-view+json": {
       "model_id": "7c3b2f02d38b4334aa470f14aec81bb1",
       "version_major": 2,
       "version_minor": 0
      },
      "text/plain": [
       "Validation: 0it [00:00, ?it/s]"
      ]
     },
     "metadata": {},
     "output_type": "display_data"
    },
    {
     "data": {
      "application/vnd.jupyter.widget-view+json": {
       "model_id": "ff7b1c8fa2d74f8eaa0e3caedd1922ab",
       "version_major": 2,
       "version_minor": 0
      },
      "text/plain": [
       "Validation: 0it [00:00, ?it/s]"
      ]
     },
     "metadata": {},
     "output_type": "display_data"
    },
    {
     "data": {
      "application/vnd.jupyter.widget-view+json": {
       "model_id": "90ac0c4bc20d453b8e7e7ab333530f92",
       "version_major": 2,
       "version_minor": 0
      },
      "text/plain": [
       "Validation: 0it [00:00, ?it/s]"
      ]
     },
     "metadata": {},
     "output_type": "display_data"
    },
    {
     "data": {
      "application/vnd.jupyter.widget-view+json": {
       "model_id": "c29b84822df34fd29b819c6e1ba6c94a",
       "version_major": 2,
       "version_minor": 0
      },
      "text/plain": [
       "Validation: 0it [00:00, ?it/s]"
      ]
     },
     "metadata": {},
     "output_type": "display_data"
    },
    {
     "data": {
      "application/vnd.jupyter.widget-view+json": {
       "model_id": "d93dc15464cc4c6eaf9c81371c606b4b",
       "version_major": 2,
       "version_minor": 0
      },
      "text/plain": [
       "Validation: 0it [00:00, ?it/s]"
      ]
     },
     "metadata": {},
     "output_type": "display_data"
    },
    {
     "data": {
      "application/vnd.jupyter.widget-view+json": {
       "model_id": "d81b6ab11b284e929ad1bc9f7e7b5698",
       "version_major": 2,
       "version_minor": 0
      },
      "text/plain": [
       "Validation: 0it [00:00, ?it/s]"
      ]
     },
     "metadata": {},
     "output_type": "display_data"
    },
    {
     "data": {
      "application/vnd.jupyter.widget-view+json": {
       "model_id": "58cee3b7832943e784477e6ab008e11c",
       "version_major": 2,
       "version_minor": 0
      },
      "text/plain": [
       "Validation: 0it [00:00, ?it/s]"
      ]
     },
     "metadata": {},
     "output_type": "display_data"
    },
    {
     "data": {
      "application/vnd.jupyter.widget-view+json": {
       "model_id": "fda024e2c53e4df8830b9f4fe0f1e03e",
       "version_major": 2,
       "version_minor": 0
      },
      "text/plain": [
       "Validation: 0it [00:00, ?it/s]"
      ]
     },
     "metadata": {},
     "output_type": "display_data"
    },
    {
     "data": {
      "application/vnd.jupyter.widget-view+json": {
       "model_id": "b3ace0a9a14948fa88e372a3b270eaf4",
       "version_major": 2,
       "version_minor": 0
      },
      "text/plain": [
       "Validation: 0it [00:00, ?it/s]"
      ]
     },
     "metadata": {},
     "output_type": "display_data"
    },
    {
     "data": {
      "application/vnd.jupyter.widget-view+json": {
       "model_id": "6489635b00c1489ebb0967fdb891eee2",
       "version_major": 2,
       "version_minor": 0
      },
      "text/plain": [
       "Validation: 0it [00:00, ?it/s]"
      ]
     },
     "metadata": {},
     "output_type": "display_data"
    },
    {
     "data": {
      "application/vnd.jupyter.widget-view+json": {
       "model_id": "b7fbbb2c296d46998bce8e51e9129697",
       "version_major": 2,
       "version_minor": 0
      },
      "text/plain": [
       "Validation: 0it [00:00, ?it/s]"
      ]
     },
     "metadata": {},
     "output_type": "display_data"
    },
    {
     "data": {
      "application/vnd.jupyter.widget-view+json": {
       "model_id": "8a16a85f026e4c58922d31ce07117e07",
       "version_major": 2,
       "version_minor": 0
      },
      "text/plain": [
       "Validation: 0it [00:00, ?it/s]"
      ]
     },
     "metadata": {},
     "output_type": "display_data"
    },
    {
     "data": {
      "application/vnd.jupyter.widget-view+json": {
       "model_id": "af14ace29ca54f8d9ed0a250e3847c34",
       "version_major": 2,
       "version_minor": 0
      },
      "text/plain": [
       "Validation: 0it [00:00, ?it/s]"
      ]
     },
     "metadata": {},
     "output_type": "display_data"
    },
    {
     "data": {
      "application/vnd.jupyter.widget-view+json": {
       "model_id": "5d30fcf570e543e8b9536ebf72a64d58",
       "version_major": 2,
       "version_minor": 0
      },
      "text/plain": [
       "Validation: 0it [00:00, ?it/s]"
      ]
     },
     "metadata": {},
     "output_type": "display_data"
    },
    {
     "data": {
      "application/vnd.jupyter.widget-view+json": {
       "model_id": "f4d24870c7d64046af3dda1b105b7b31",
       "version_major": 2,
       "version_minor": 0
      },
      "text/plain": [
       "Validation: 0it [00:00, ?it/s]"
      ]
     },
     "metadata": {},
     "output_type": "display_data"
    },
    {
     "data": {
      "application/vnd.jupyter.widget-view+json": {
       "model_id": "5596bc3efd774259ba9daa9fe2257b62",
       "version_major": 2,
       "version_minor": 0
      },
      "text/plain": [
       "Validation: 0it [00:00, ?it/s]"
      ]
     },
     "metadata": {},
     "output_type": "display_data"
    },
    {
     "data": {
      "application/vnd.jupyter.widget-view+json": {
       "model_id": "f107ec8117154f04a2a86e5a9b7beb17",
       "version_major": 2,
       "version_minor": 0
      },
      "text/plain": [
       "Validation: 0it [00:00, ?it/s]"
      ]
     },
     "metadata": {},
     "output_type": "display_data"
    },
    {
     "data": {
      "application/vnd.jupyter.widget-view+json": {
       "model_id": "5b064b86049c474b9b7c5e2a74590b26",
       "version_major": 2,
       "version_minor": 0
      },
      "text/plain": [
       "Validation: 0it [00:00, ?it/s]"
      ]
     },
     "metadata": {},
     "output_type": "display_data"
    },
    {
     "data": {
      "application/vnd.jupyter.widget-view+json": {
       "model_id": "09e00e22e0a54501b91aea1fd5ce4c20",
       "version_major": 2,
       "version_minor": 0
      },
      "text/plain": [
       "Validation: 0it [00:00, ?it/s]"
      ]
     },
     "metadata": {},
     "output_type": "display_data"
    },
    {
     "data": {
      "application/vnd.jupyter.widget-view+json": {
       "model_id": "8e382e859a5040e09764e9d9f89ab255",
       "version_major": 2,
       "version_minor": 0
      },
      "text/plain": [
       "Validation: 0it [00:00, ?it/s]"
      ]
     },
     "metadata": {},
     "output_type": "display_data"
    },
    {
     "data": {
      "application/vnd.jupyter.widget-view+json": {
       "model_id": "f0daed7960174bbb9027a3ed575027c1",
       "version_major": 2,
       "version_minor": 0
      },
      "text/plain": [
       "Validation: 0it [00:00, ?it/s]"
      ]
     },
     "metadata": {},
     "output_type": "display_data"
    },
    {
     "data": {
      "application/vnd.jupyter.widget-view+json": {
       "model_id": "f1812272bdb6476db5c412d41ab76291",
       "version_major": 2,
       "version_minor": 0
      },
      "text/plain": [
       "Validation: 0it [00:00, ?it/s]"
      ]
     },
     "metadata": {},
     "output_type": "display_data"
    },
    {
     "data": {
      "application/vnd.jupyter.widget-view+json": {
       "model_id": "c19cf08b5ef442d29c4c2d1bba38eff3",
       "version_major": 2,
       "version_minor": 0
      },
      "text/plain": [
       "Validation: 0it [00:00, ?it/s]"
      ]
     },
     "metadata": {},
     "output_type": "display_data"
    },
    {
     "data": {
      "application/vnd.jupyter.widget-view+json": {
       "model_id": "91ecfddbc49b449b8446f7e8ffc31f8f",
       "version_major": 2,
       "version_minor": 0
      },
      "text/plain": [
       "Validation: 0it [00:00, ?it/s]"
      ]
     },
     "metadata": {},
     "output_type": "display_data"
    },
    {
     "data": {
      "application/vnd.jupyter.widget-view+json": {
       "model_id": "9ab808b0031449338961943eee43fa15",
       "version_major": 2,
       "version_minor": 0
      },
      "text/plain": [
       "Validation: 0it [00:00, ?it/s]"
      ]
     },
     "metadata": {},
     "output_type": "display_data"
    },
    {
     "data": {
      "application/vnd.jupyter.widget-view+json": {
       "model_id": "b5e115e14f1d4933b8591b7574b4486a",
       "version_major": 2,
       "version_minor": 0
      },
      "text/plain": [
       "Validation: 0it [00:00, ?it/s]"
      ]
     },
     "metadata": {},
     "output_type": "display_data"
    },
    {
     "data": {
      "application/vnd.jupyter.widget-view+json": {
       "model_id": "1261bc9f9da74ce69b49a5d67dcf13d4",
       "version_major": 2,
       "version_minor": 0
      },
      "text/plain": [
       "Validation: 0it [00:00, ?it/s]"
      ]
     },
     "metadata": {},
     "output_type": "display_data"
    },
    {
     "data": {
      "application/vnd.jupyter.widget-view+json": {
       "model_id": "ab59e80dadc1428693f3529338518174",
       "version_major": 2,
       "version_minor": 0
      },
      "text/plain": [
       "Validation: 0it [00:00, ?it/s]"
      ]
     },
     "metadata": {},
     "output_type": "display_data"
    },
    {
     "data": {
      "application/vnd.jupyter.widget-view+json": {
       "model_id": "edfa7ea3e7064840814a0480f86948df",
       "version_major": 2,
       "version_minor": 0
      },
      "text/plain": [
       "Validation: 0it [00:00, ?it/s]"
      ]
     },
     "metadata": {},
     "output_type": "display_data"
    },
    {
     "data": {
      "application/vnd.jupyter.widget-view+json": {
       "model_id": "e5f853a878eb4269aa9fc3fa37f6b88e",
       "version_major": 2,
       "version_minor": 0
      },
      "text/plain": [
       "Validation: 0it [00:00, ?it/s]"
      ]
     },
     "metadata": {},
     "output_type": "display_data"
    },
    {
     "data": {
      "application/vnd.jupyter.widget-view+json": {
       "model_id": "b02457e882b44fed836c13ec865f85d7",
       "version_major": 2,
       "version_minor": 0
      },
      "text/plain": [
       "Validation: 0it [00:00, ?it/s]"
      ]
     },
     "metadata": {},
     "output_type": "display_data"
    },
    {
     "data": {
      "application/vnd.jupyter.widget-view+json": {
       "model_id": "6e4e53e13b30472ba9de4192a3225386",
       "version_major": 2,
       "version_minor": 0
      },
      "text/plain": [
       "Validation: 0it [00:00, ?it/s]"
      ]
     },
     "metadata": {},
     "output_type": "display_data"
    },
    {
     "data": {
      "application/vnd.jupyter.widget-view+json": {
       "model_id": "2e180fb2893c4a22b736c836b9cec1bc",
       "version_major": 2,
       "version_minor": 0
      },
      "text/plain": [
       "Validation: 0it [00:00, ?it/s]"
      ]
     },
     "metadata": {},
     "output_type": "display_data"
    },
    {
     "data": {
      "application/vnd.jupyter.widget-view+json": {
       "model_id": "aa0508626f684414b3846b57910b1a15",
       "version_major": 2,
       "version_minor": 0
      },
      "text/plain": [
       "Validation: 0it [00:00, ?it/s]"
      ]
     },
     "metadata": {},
     "output_type": "display_data"
    },
    {
     "data": {
      "application/vnd.jupyter.widget-view+json": {
       "model_id": "98c6d65ccc1249ba95ab070f3aa693fd",
       "version_major": 2,
       "version_minor": 0
      },
      "text/plain": [
       "Validation: 0it [00:00, ?it/s]"
      ]
     },
     "metadata": {},
     "output_type": "display_data"
    },
    {
     "data": {
      "application/vnd.jupyter.widget-view+json": {
       "model_id": "23047109634f417da2469ed7303d0f65",
       "version_major": 2,
       "version_minor": 0
      },
      "text/plain": [
       "Validation: 0it [00:00, ?it/s]"
      ]
     },
     "metadata": {},
     "output_type": "display_data"
    },
    {
     "data": {
      "application/vnd.jupyter.widget-view+json": {
       "model_id": "fd1d11a3c3564f15b457f22eb0a1da09",
       "version_major": 2,
       "version_minor": 0
      },
      "text/plain": [
       "Validation: 0it [00:00, ?it/s]"
      ]
     },
     "metadata": {},
     "output_type": "display_data"
    },
    {
     "data": {
      "application/vnd.jupyter.widget-view+json": {
       "model_id": "50295ee3ad4849e7b69067580ff9cdff",
       "version_major": 2,
       "version_minor": 0
      },
      "text/plain": [
       "Validation: 0it [00:00, ?it/s]"
      ]
     },
     "metadata": {},
     "output_type": "display_data"
    },
    {
     "data": {
      "application/vnd.jupyter.widget-view+json": {
       "model_id": "7f97c9c7a61a4499a666cd0f3d600bd0",
       "version_major": 2,
       "version_minor": 0
      },
      "text/plain": [
       "Validation: 0it [00:00, ?it/s]"
      ]
     },
     "metadata": {},
     "output_type": "display_data"
    },
    {
     "data": {
      "application/vnd.jupyter.widget-view+json": {
       "model_id": "af64b40f87954d12b4a6fdae7608d661",
       "version_major": 2,
       "version_minor": 0
      },
      "text/plain": [
       "Validation: 0it [00:00, ?it/s]"
      ]
     },
     "metadata": {},
     "output_type": "display_data"
    },
    {
     "data": {
      "application/vnd.jupyter.widget-view+json": {
       "model_id": "3b28988ac630458bbe51cfb7739c767b",
       "version_major": 2,
       "version_minor": 0
      },
      "text/plain": [
       "Validation: 0it [00:00, ?it/s]"
      ]
     },
     "metadata": {},
     "output_type": "display_data"
    },
    {
     "data": {
      "application/vnd.jupyter.widget-view+json": {
       "model_id": "1a6ccccd53f7474cb57a5f9258647700",
       "version_major": 2,
       "version_minor": 0
      },
      "text/plain": [
       "Validation: 0it [00:00, ?it/s]"
      ]
     },
     "metadata": {},
     "output_type": "display_data"
    },
    {
     "data": {
      "application/vnd.jupyter.widget-view+json": {
       "model_id": "0a20ebeb409f4fdbb6798eda01e5af17",
       "version_major": 2,
       "version_minor": 0
      },
      "text/plain": [
       "Validation: 0it [00:00, ?it/s]"
      ]
     },
     "metadata": {},
     "output_type": "display_data"
    },
    {
     "data": {
      "application/vnd.jupyter.widget-view+json": {
       "model_id": "410604c887ee4fdb85f42edcb9a178c8",
       "version_major": 2,
       "version_minor": 0
      },
      "text/plain": [
       "Validation: 0it [00:00, ?it/s]"
      ]
     },
     "metadata": {},
     "output_type": "display_data"
    },
    {
     "data": {
      "application/vnd.jupyter.widget-view+json": {
       "model_id": "c0729c802a3641338e14fbb1044efd85",
       "version_major": 2,
       "version_minor": 0
      },
      "text/plain": [
       "Validation: 0it [00:00, ?it/s]"
      ]
     },
     "metadata": {},
     "output_type": "display_data"
    },
    {
     "data": {
      "application/vnd.jupyter.widget-view+json": {
       "model_id": "16ef4ee777ad48ee869194bfcafa9137",
       "version_major": 2,
       "version_minor": 0
      },
      "text/plain": [
       "Validation: 0it [00:00, ?it/s]"
      ]
     },
     "metadata": {},
     "output_type": "display_data"
    },
    {
     "data": {
      "application/vnd.jupyter.widget-view+json": {
       "model_id": "d676c0e88b33481bab2138b634e7f89f",
       "version_major": 2,
       "version_minor": 0
      },
      "text/plain": [
       "Validation: 0it [00:00, ?it/s]"
      ]
     },
     "metadata": {},
     "output_type": "display_data"
    },
    {
     "data": {
      "application/vnd.jupyter.widget-view+json": {
       "model_id": "13bcf33dd897408495e4dda1193c35f0",
       "version_major": 2,
       "version_minor": 0
      },
      "text/plain": [
       "Validation: 0it [00:00, ?it/s]"
      ]
     },
     "metadata": {},
     "output_type": "display_data"
    },
    {
     "data": {
      "application/vnd.jupyter.widget-view+json": {
       "model_id": "4293d471675d4135adee5d7723975ef6",
       "version_major": 2,
       "version_minor": 0
      },
      "text/plain": [
       "Validation: 0it [00:00, ?it/s]"
      ]
     },
     "metadata": {},
     "output_type": "display_data"
    },
    {
     "data": {
      "application/vnd.jupyter.widget-view+json": {
       "model_id": "4c8e60c09ec248ccb39c7511625da1fa",
       "version_major": 2,
       "version_minor": 0
      },
      "text/plain": [
       "Validation: 0it [00:00, ?it/s]"
      ]
     },
     "metadata": {},
     "output_type": "display_data"
    },
    {
     "data": {
      "application/vnd.jupyter.widget-view+json": {
       "model_id": "53861de43ea34375ba26f8784ec226a2",
       "version_major": 2,
       "version_minor": 0
      },
      "text/plain": [
       "Validation: 0it [00:00, ?it/s]"
      ]
     },
     "metadata": {},
     "output_type": "display_data"
    },
    {
     "data": {
      "application/vnd.jupyter.widget-view+json": {
       "model_id": "61508da504044992a44eef223557ac48",
       "version_major": 2,
       "version_minor": 0
      },
      "text/plain": [
       "Validation: 0it [00:00, ?it/s]"
      ]
     },
     "metadata": {},
     "output_type": "display_data"
    },
    {
     "data": {
      "application/vnd.jupyter.widget-view+json": {
       "model_id": "22218c34c7304517942514a4d981e7dd",
       "version_major": 2,
       "version_minor": 0
      },
      "text/plain": [
       "Validation: 0it [00:00, ?it/s]"
      ]
     },
     "metadata": {},
     "output_type": "display_data"
    },
    {
     "data": {
      "application/vnd.jupyter.widget-view+json": {
       "model_id": "9f1c2161deac429785f64a7eb3b6c7df",
       "version_major": 2,
       "version_minor": 0
      },
      "text/plain": [
       "Validation: 0it [00:00, ?it/s]"
      ]
     },
     "metadata": {},
     "output_type": "display_data"
    },
    {
     "data": {
      "application/vnd.jupyter.widget-view+json": {
       "model_id": "369a51a3941d464da2760f3f09cbd1db",
       "version_major": 2,
       "version_minor": 0
      },
      "text/plain": [
       "Validation: 0it [00:00, ?it/s]"
      ]
     },
     "metadata": {},
     "output_type": "display_data"
    },
    {
     "data": {
      "application/vnd.jupyter.widget-view+json": {
       "model_id": "5ec031ece512403bb2364564de26e982",
       "version_major": 2,
       "version_minor": 0
      },
      "text/plain": [
       "Validation: 0it [00:00, ?it/s]"
      ]
     },
     "metadata": {},
     "output_type": "display_data"
    },
    {
     "data": {
      "application/vnd.jupyter.widget-view+json": {
       "model_id": "2792cf4bd06c4e72bbe136cbad06d9e5",
       "version_major": 2,
       "version_minor": 0
      },
      "text/plain": [
       "Validation: 0it [00:00, ?it/s]"
      ]
     },
     "metadata": {},
     "output_type": "display_data"
    },
    {
     "data": {
      "application/vnd.jupyter.widget-view+json": {
       "model_id": "ccdb7fcfe35a4857a693d0feb95604fe",
       "version_major": 2,
       "version_minor": 0
      },
      "text/plain": [
       "Validation: 0it [00:00, ?it/s]"
      ]
     },
     "metadata": {},
     "output_type": "display_data"
    },
    {
     "data": {
      "application/vnd.jupyter.widget-view+json": {
       "model_id": "18632db36b6340dabb61b18a068339d1",
       "version_major": 2,
       "version_minor": 0
      },
      "text/plain": [
       "Validation: 0it [00:00, ?it/s]"
      ]
     },
     "metadata": {},
     "output_type": "display_data"
    },
    {
     "data": {
      "application/vnd.jupyter.widget-view+json": {
       "model_id": "bbc75f50751741a195591e24fcca7261",
       "version_major": 2,
       "version_minor": 0
      },
      "text/plain": [
       "Validation: 0it [00:00, ?it/s]"
      ]
     },
     "metadata": {},
     "output_type": "display_data"
    },
    {
     "data": {
      "application/vnd.jupyter.widget-view+json": {
       "model_id": "65bf97a1e4a0417ab2caf6d6a2d9ecad",
       "version_major": 2,
       "version_minor": 0
      },
      "text/plain": [
       "Validation: 0it [00:00, ?it/s]"
      ]
     },
     "metadata": {},
     "output_type": "display_data"
    },
    {
     "data": {
      "application/vnd.jupyter.widget-view+json": {
       "model_id": "4dd046cd51fb467d90fbd6ef43e14757",
       "version_major": 2,
       "version_minor": 0
      },
      "text/plain": [
       "Validation: 0it [00:00, ?it/s]"
      ]
     },
     "metadata": {},
     "output_type": "display_data"
    },
    {
     "data": {
      "application/vnd.jupyter.widget-view+json": {
       "model_id": "908524131c1b446791fa865fbc658386",
       "version_major": 2,
       "version_minor": 0
      },
      "text/plain": [
       "Validation: 0it [00:00, ?it/s]"
      ]
     },
     "metadata": {},
     "output_type": "display_data"
    },
    {
     "data": {
      "application/vnd.jupyter.widget-view+json": {
       "model_id": "1264bd2e2d694285a03d47b0ba2a975f",
       "version_major": 2,
       "version_minor": 0
      },
      "text/plain": [
       "Validation: 0it [00:00, ?it/s]"
      ]
     },
     "metadata": {},
     "output_type": "display_data"
    },
    {
     "data": {
      "application/vnd.jupyter.widget-view+json": {
       "model_id": "4f879d9be3ed4182872039e79c27db70",
       "version_major": 2,
       "version_minor": 0
      },
      "text/plain": [
       "Validation: 0it [00:00, ?it/s]"
      ]
     },
     "metadata": {},
     "output_type": "display_data"
    },
    {
     "data": {
      "application/vnd.jupyter.widget-view+json": {
       "model_id": "7dbd19416727407787dea66e97bf89eb",
       "version_major": 2,
       "version_minor": 0
      },
      "text/plain": [
       "Validation: 0it [00:00, ?it/s]"
      ]
     },
     "metadata": {},
     "output_type": "display_data"
    },
    {
     "data": {
      "application/vnd.jupyter.widget-view+json": {
       "model_id": "40ecf0004a47446aa7ed2e4b952fac68",
       "version_major": 2,
       "version_minor": 0
      },
      "text/plain": [
       "Validation: 0it [00:00, ?it/s]"
      ]
     },
     "metadata": {},
     "output_type": "display_data"
    },
    {
     "data": {
      "application/vnd.jupyter.widget-view+json": {
       "model_id": "a5fb19e0f9e7497e82296ee957f5e0cd",
       "version_major": 2,
       "version_minor": 0
      },
      "text/plain": [
       "Validation: 0it [00:00, ?it/s]"
      ]
     },
     "metadata": {},
     "output_type": "display_data"
    },
    {
     "data": {
      "application/vnd.jupyter.widget-view+json": {
       "model_id": "e2a5dcfa4bf143e79e5e2d92e253cb5b",
       "version_major": 2,
       "version_minor": 0
      },
      "text/plain": [
       "Validation: 0it [00:00, ?it/s]"
      ]
     },
     "metadata": {},
     "output_type": "display_data"
    },
    {
     "data": {
      "application/vnd.jupyter.widget-view+json": {
       "model_id": "c790705e172d4cd49ffe20f8576b290a",
       "version_major": 2,
       "version_minor": 0
      },
      "text/plain": [
       "Validation: 0it [00:00, ?it/s]"
      ]
     },
     "metadata": {},
     "output_type": "display_data"
    },
    {
     "data": {
      "application/vnd.jupyter.widget-view+json": {
       "model_id": "88c000e66e9643fcb8b38e03ba362927",
       "version_major": 2,
       "version_minor": 0
      },
      "text/plain": [
       "Validation: 0it [00:00, ?it/s]"
      ]
     },
     "metadata": {},
     "output_type": "display_data"
    },
    {
     "data": {
      "application/vnd.jupyter.widget-view+json": {
       "model_id": "f92b81f8b05c4645b76d27a0d17ab950",
       "version_major": 2,
       "version_minor": 0
      },
      "text/plain": [
       "Validation: 0it [00:00, ?it/s]"
      ]
     },
     "metadata": {},
     "output_type": "display_data"
>>>>>>> main
    }
   ],
   "source": [
    "torch.set_grad_enabled(True)\n",
    "VAE.fit(logger_kwargs=dict(name=\"vae\", save_dir=\"lossless_ae\"))"
   ]
  },
  {
   "cell_type": "code",
   "execution_count": null,
   "id": "92c9325f-4085-4184-82db-5121e2ee212e",
   "metadata": {},
   "outputs": [],
   "source": [
    "checkpoint = lightning_trainable.utils.find_checkpoint(root=\"lossless_ae/vae\", version=0, epoch=\"last\")\n",
    "VAE = fff.fif.FreeFormInjectiveFlow.load_from_checkpoint(checkpoint)"
   ]
  },
  {
   "cell_type": "code",
   "execution_count": null,
   "id": "46e88a5f-6564-4afd-93ad-09ede6e230da",
   "metadata": {},
   "outputs": [],
   "source": [
    "def eval_vae(model2plt):\n",
    "    device = model2plt.device\n",
    "    \n",
    "    data = {}\n",
    "    true_test_batch = model2plt.test_data[:]\n",
    "    test_conditioned = model2plt.apply_conditions(true_test_batch)\n",
    "    true_test_c = test_conditioned.condition\n",
    "    true_test_samples = test_conditioned.x_noisy\n",
    "    \n",
    "    print(\"encoding...\")\n",
    "    batch_size = model2plt.hparams.batch_size\n",
    "    true_test_z = torch.cat([\n",
    "        model2plt.encode(batch.to(device), c_batch.to(device))[0].cpu()\n",
    "        for batch, c_batch in zip(true_test_samples.split(batch_size), true_test_c.split(batch_size))\n",
    "    ])\n",
    "    \n",
    "    print(\"reconstructing...\")\n",
    "    true_reconstruction = torch.cat([\n",
    "        model2plt.decode(batch.to(device), c_batch.to(device)).cpu()\n",
    "        for batch, c_batch in zip(true_test_z.split(batch_size), true_test_c.split(batch_size))\n",
    "    ])\n",
    "\n",
    "    print(\"sampling...\")\n",
    "    z_sampled = torch.randn_like(true_test_z)\n",
    "    x_sampled = torch.cat([\n",
    "        model2plt.decode(batch.to(device), c_batch.to(device)).detach().cpu()\n",
    "        for batch, c_batch in zip(z_sampled.split(batch_size), true_test_c.split(batch_size))\n",
    "    ])\n",
    "    \n",
    "    #plotting...\n",
    "    plot_images_16(true_test_samples, \"Original\", \"vae\")\n",
    "    plot_images_16(true_reconstruction, \"Reconstruction\", \"vae\")\n",
    "    plot_images_16(x_sampled, \"Sampled\", \"vae\")"
   ]
  },
  {
   "cell_type": "code",
   "execution_count": null,
   "id": "55e2ee28-d1b1-47d8-abb4-e24b0053871e",
   "metadata": {},
   "outputs": [],
   "source": [
    "torch.set_grad_enabled(False)\n",
    "eval_vae(VAE)"
   ]
  },
  {
   "cell_type": "markdown",
   "id": "a2ad4a5d-71c7-47ac-88af-8d6e11435f6d",
   "metadata": {},
   "source": [
    "## Train fiber-learning model"
   ]
  },
  {
   "cell_type": "code",
   "execution_count": null,
   "id": "1666028f-152d-4355-899a-052ca9901909",
   "metadata": {},
   "outputs": [],
   "source": [
    "data_name = \"16EMNIST_F5F_demo\""
   ]
  },
  {
   "cell_type": "code",
   "execution_count": null,
   "id": "c245a4d9-f993-468e-8957-59194d53406a",
   "metadata": {},
   "outputs": [],
   "source": [
    "hparams_fl_fif = fff.fif.FreeFormInjectiveFlowHParams(\n",
    "    vae = True,\n",
    "    noise = 0.01,\n",
    "    latent_distribution = {\"name\": \"transformed_normal\"},\n",
    "    data_set = {\"name\": \"mnist_split\", \"root\": \"data\", \"conditional\": True, \"path\": data_name},\n",
    "    loss_weights = {\"nll\": 1, \"latent_reconstruction\": 10, \"masked_reconstruction\": 1, \"fiber_loss\": 10},\n",
    "    train_models = False,\n",
    "    train_transform = True,\n",
    "    models = [{\n",
    "        \"name\": \"fff.model.ConvolutionalNeuralNetwork\",\n",
    "        \"latent_dim\": 100,\n",
    "        \"ch_factor\": 32,\n",
    "        \"encoder_spec\": [\n",
    "            [2,4,2,1],\n",
    "            [4,4,2,1],\n",
    "            [8,4,2,1]],\n",
    "        \"decoder_spec\": [\n",
    "            [8,4],\n",
    "            [4,4,2,1],\n",
    "            [1,3,2,1,1]\n",
    "        ]},\n",
    "        {\"name\": \"fff.model.VarResNet\",\n",
    "         \"latent_dim\": 64,\n",
    "         \"layers_spec\": [\n",
    "             [512,512],\n",
    "             [512,512]]}\n",
    "    ],\n",
    "    load_models_path = \"lossless_ae/vae/version_0/checkpoints/last.ckpt\",\n",
    "    transform = {\n",
    "        \"name\": \"fff.model.ResNet\",\n",
    "        \"data_dim\": 64,\n",
    "        \"latent_dim\": 64-5,\n",
    "        \"layers_spec\": [\n",
    "            [512, 512],\n",
    "            [512, 512],\n",
    "            [512, 512]]},\n",
    "    optimizer = {\n",
    "        \"name\": \"adam\",\n",
    "        \"lr\": 0.002,\n",
    "    },\n",
    "    lr_scheduler = \"onecyclelr\",\n",
    "    max_epochs = 200,\n",
    "    batch_size = 512,\n",
    "    load_subject_model = True)"
   ]
  },
  {
   "cell_type": "code",
   "execution_count": null,
   "id": "82f7988a-b5f6-4e90-a647-007b861a3bc4",
   "metadata": {},
   "outputs": [],
   "source": [
    "model = fff.fif.FreeFormInjectiveFlow(hparams_fl_fif)"
   ]
  },
  {
   "cell_type": "code",
   "execution_count": null,
   "id": "ae048917-4e0b-43e0-8637-48f6d1f7e796",
   "metadata": {},
   "outputs": [],
   "source": [
    "torch.set_grad_enabled(True)\n",
    "model.fit(logger_kwargs=dict(name=\"fif\", save_dir=\"lightning_logs\"))"
   ]
  },
  {
   "cell_type": "markdown",
   "id": "6b2d2e07-9f78-4e0f-b037-283ac86062f7",
   "metadata": {},
   "source": [
    "## Evaluate fiber-learning model"
   ]
  },
  {
   "cell_type": "code",
   "execution_count": null,
   "id": "0cf41d0b-e4b7-464d-a75a-df13ef335953",
   "metadata": {},
   "outputs": [],
   "source": [
    "#If you want to load a trained model\n",
    "#checkpoint = lightning_trainable.utils.find_checkpoint(root=\"lightning_logs/fif\", version=0, epoch=\"last\")\n",
    "#model = fff.fif.FreeFormInjectiveFlow.load_from_checkpoint(checkpoint)"
   ]
  },
  {
   "cell_type": "code",
   "execution_count": null,
   "id": "e85ec14a-769e-4c03-b148-605e35e36e09",
   "metadata": {},
   "outputs": [],
   "source": [
    "subject_model = model.subject_model"
   ]
  },
  {
   "cell_type": "code",
   "execution_count": null,
   "id": "22c8f22d-2843-4f7a-8f75-35906df0056d",
   "metadata": {},
   "outputs": [],
   "source": [
    "def evaluate_model(model2plt):\n",
    "    device = model2plt.device\n",
    "    \n",
    "    data = {}\n",
    "    train_batch = model2plt.train_data[:]\n",
    "    test_batch = model2plt.test_data[:]\n",
    "\n",
    "    train_conditioned = model2plt.apply_conditions(train_batch)\n",
    "    train_samples = train_conditioned.x_noisy\n",
    "    train_c = train_conditioned.condition\n",
    "    train_c0 = torch.empty((train_samples.shape[0], 0), device=train_samples.device, dtype=train_samples.dtype)\n",
    "    \n",
    "    test_conditioned = model2plt.apply_conditions(test_batch)\n",
    "    test_c = test_conditioned.condition\n",
    "    test_samples = test_conditioned.x0\n",
    "    test_c0 = torch.empty((test_samples.shape[0], 0), device=test_samples.device, dtype=test_samples.dtype)\n",
    "    \n",
    "    data[\"train_samples\"] = train_samples\n",
    "    data[\"test_samples\"] = test_samples\n",
    "    data[\"test_c\"] = test_c\n",
    "    data[\"train_c\"] = train_c\n",
    "    \n",
    "    print(\"sampling...\")\n",
    "    x_sampled = model2plt.sample((test_samples[:].shape[0],),test_c[:].to(device))\n",
    "    \n",
    "    c_sm = torch.empty((test_c.shape[0], 0), device=test_c.device)\n",
    "    conditioned = subject_model.apply_conditions((x_sampled,))\n",
    "    c_sm = conditioned.condition\n",
    "    x_sm = conditioned.x0\n",
    "    xc = subject_model.encode(x_sm.to(subject_model.device), c_sm.to(subject_model.device))\n",
    "    xc = (xc.detach().cpu() - model.data_shift) / model.data_scale\n",
    "    latent_dim = xc[0].shape[0]\n",
    "    delta_coarse = torch.sqrt(torch.sum((xc-test_c[:])**2, dim=1)/latent_dim)\n",
    "    print(\"median fiber deviation on test set: \", torch.median(delta_coarse))\n",
    "    \n",
    "    return data"
   ]
  },
  {
   "cell_type": "code",
   "execution_count": null,
   "id": "bdf45862-5833-4cfc-91f4-288e52e0be06",
   "metadata": {},
   "outputs": [],
   "source": [
    "torch.set_grad_enabled(False)\n",
    "data = evaluate_model(model)\n",
    "if model.transform == \"diffusion\":\n",
    "    z_dim = 64\n",
    "    std_z0 = 1\n",
    "else:\n",
    "    z_dim = 64-5\n",
    "    std_z0 = 1\n",
    "latent_dim = max(1, data[\"test_c\"].shape[1])"
   ]
  },
  {
   "cell_type": "code",
   "execution_count": null,
   "id": "21661236-366a-4bd1-9944-6f8fe91691fa",
   "metadata": {},
   "outputs": [],
   "source": [
    "def plot_details(model2plot, data, i_sample, zrange, GD_steps=100, sanity=False):\n",
    "    device = model2plot.device\n",
    "    \n",
    "    pos_min, pos_max = -zrange, zrange\n",
    "    c = data[\"test_c\"]\n",
    "    train_c = data[\"train_c\"]\n",
    "    train_samples = data[\"train_samples\"]\n",
    "    test_samples = data[\"test_samples\"]\n",
    "    N = 21\n",
    "    n = 7\n",
    "    ddim = z_dim\n",
    "    x_orig = test_samples[i_sample]\n",
    "\n",
    "    # calculate x_c_x for train_data\n",
    "    conditioned = subject_model.apply_conditions((train_samples,))\n",
    "    c_sm = conditioned.condition\n",
    "    x_sm = conditioned.x0\n",
    "    y_sm = torch.cat([\n",
    "        subject_model.encode(batch.to(device), c_batch.to(device)).detach().cpu()\n",
    "        for batch, c_batch in zip(x_sm.split(512), c_sm.split(512))\n",
    "    ])\n",
    "    train_c_sm = (y_sm  - model2plot.data_shift) / model2plot.data_scale\n",
    "    # calculate x_c_x for test_data\n",
    "    conditioned = subject_model.apply_conditions((test_samples,))\n",
    "    c_sm = conditioned.condition\n",
    "    x_sm = conditioned.x0\n",
    "    y_sm = torch.cat([\n",
    "        subject_model.encode(batch.to(device), c_batch.to(device)).detach().cpu()\n",
    "        for batch, c_batch in zip(x_sm.split(512), c_sm.split(512))\n",
    "    ])\n",
    "    x_test_sm = subject_model.decode(y_sm.to(device), c_sm.to(subject_model.device)).detach().cpu()\n",
    "    xcx = x_test_sm[i_sample]\n",
    "    c_sm = (y_sm  - model2plot.data_shift) / model2plot.data_scale\n",
    "\n",
    "    # calculate Nearest Neighbours\n",
    "    verify = c_sm[i_sample]\n",
    "    NN, similar, NN_suptitle, NN_titles = calc_NNs(latent_dim, verify, train_c_sm, train_samples, n+1)\n",
    "    \n",
    "    #calculate walk along 0th detail dimension with sampled rest\n",
    "    z0_range = torch.linspace(pos_min, pos_max, N)\n",
    "    #z0_sample = z[i_sample][0].numpy()\n",
    "\n",
    "    #new_details_norm = torch.randn(40,N,ddim-1)\n",
    "    new_details_norm = model2plot.get_latent(\"cpu\").Dist.sample([40,N])[:,:,:-1]\n",
    "    z0_range_norm = torch.unsqueeze(z0_range,0)\n",
    "    z0_range_norm = z0_range_norm.repeat(40,1)\n",
    "    new_details_norm = torch.cat([torch.unsqueeze(z0_range_norm,2), new_details_norm], dim=2)\n",
    "    new_details_norm = torch.reshape(new_details_norm, (40*N,ddim))\n",
    "    vz_dense = new_details_norm\n",
    "    #print(torch.reshape(new_details_norm, (40,N,100))[0,:,0])\n",
    "    \n",
    "    #decoding...\n",
    "    c_sample_sm = torch.unsqueeze(c_sm[i_sample], dim=0)\n",
    "    c_sample = torch.unsqueeze(c[i_sample], dim=0)\n",
    "    c_sample_norm = c_sample.repeat(40*N,1)\n",
    "    c_sample_norm0 = torch.empty((c_sample_norm.shape[0], 0), dtype=c_sample.dtype)\n",
    "    c_sample = c_sample_sm.repeat(N,1)\n",
    "\n",
    "    if model2plot.transform == \"diffusion\":\n",
    "        vz = model2plot.get_latent(device).sample((40*N,), c_sample_norm.to(device)).detach().cpu()\n",
    "    else:\n",
    "        vz = model2plot.transform_model.decode(new_details_norm.to(device), c_sample_norm.to(device)).detach().cpu()\n",
    "    #vz = model2plot.get_latent(device).sample((40*N,), c_sample_norm.to(device)).detach().cpu()\n",
    "    #vz = torch.randn_like(vz)\n",
    "    if sanity==True:\n",
    "        z_orig = model2plot.encode(test_samples[i_sample].to(device), torch.empty(0).to(device))[0].cpu()\n",
    "        z_orig = z_orig + torch.randn_like(z_orig) * 0.01\n",
    "        z_orig_rep = z_orig.repeat([40,1])\n",
    "        vz = vz.reshape([40,N,-1])\n",
    "        vz[0,1,:] = z_orig\n",
    "        vz = vz.reshape([40*N,-1])\n",
    "    vx = model2plot.decode(vz.to(device), c_sample_norm0.to(device)).detach().cpu()\n",
    "    \n",
    "    #plotting...\n",
    "    D_plt_F = {\"ind\": i_sample, \"mark_first\": r\"original $x$\", \"mark_second\": sanity, \"n\": n+1, \"save_name\": \"0v_x\"}\n",
    "    i_plot = np.arange(n) * N//n + 1\n",
    "    D_plt_F[\"x_plot\"] = torch.cat((x_orig.unsqueeze(0), vx[i_plot].detach().cpu()), dim=0)\n",
    "    #D_plt_F[\"title_plot = torch.cat((torch.Tensor([z0_sample.item()]), (new_details_norm[i_plot,0]/std_z0)), dim=0)\n",
    "    D_plt_F[\"suptitle\"] = r\"Learned fiber samples $\\quad D(t^\\dagger(v))$\"\n",
    "    D_plt_F[\"titles\"] = [0,0,1,2,3,4,5,6,7,8,9]\n",
    "\n",
    "    # calculate sms reconstructions\n",
    "    vxc, D_plt_sm = plot_sm(model2plot, i_sample, vx, xcx, i_plot, n)\n",
    "    D_plt_sm[\"mark_second\"] = sanity\n",
    "\n",
    "    res_pgd = None\n",
    "    if GD_steps>0:\n",
    "        # calc PGD and plot PGD\n",
    "        vxpx, res_pgd, D_plt_PGD, D_plt_PGD_res = plot_PGD(model2plot, latent_dim, i_sample, vz[i_plot], vx[i_plot], x_orig, c_sample_sm[0], n+1, GD_steps)\n",
    "        D_plt_PGD[\"mark_second\"] = sanity\n",
    "        D_plt_PGD_res[\"mark_second\"] = sanity\n",
    "        # plot sm(x_PGD)\n",
    "        _, D_plt_Psm = plot_sm(model2plot, i_sample, vxpx, xcx, range(n), n, name=\"PGD\")\n",
    "        D_plt_Psm[\"mark_second\"] = sanity\n",
    "\n",
    "    # plot check fiber\n",
    "    title_fiber = f\"{nums[i_sample]}-fiber deviation\"\n",
    "    plot_fiber_check(zrange, latent_dim, vxc, c_sample, NN, title_fiber, i_plot, res_pgd, N)\n",
    "\n",
    "    paths = []\n",
    "    paths.append(plot_images(**D_plt_F))\n",
    "    paths.append(plot_images(**D_plt_sm))\n",
    "    if GD_steps>0:\n",
    "        paths.append(plot_images(**D_plt_PGD))\n",
    "        paths.append(plot_images(**D_plt_PGD_res))\n",
    "        paths.append(plot_images(**D_plt_Psm))\n",
    "\n",
    "    # plot NNs\n",
    "    NN_plot = torch.cat((x_orig.unsqueeze(0), similar), dim=0)\n",
    "    paths.append(plot_images(i_sample, NN_plot, titles=NN_titles, suptitle=NN_suptitle, n=n+1, save_name=\"4NNs\", mark_first= r\"original $x$\"))\n",
    "    _, D_plt_NN = plot_sm(model2plot, i_sample, similar, xcx, range(n), n, name=\"NNs\")\n",
    "    paths.append(plot_images(**D_plt_NN))\n",
    "    # calculate NNs of fiber samples\n",
    "    paths_NNs = []\n",
    "    for i in range(7):\n",
    "        _, nns, NN_suptitle_i, NN_titles_i = calc_NNs(latent_dim, vxc[i_plot][i], train_c_sm, train_samples, n+1)\n",
    "        NN_plot_i = torch.cat((vx[i_plot][i].detach().cpu().unsqueeze(0), nns), dim=0)\n",
    "        paths_NNs.append(plot_images(i_sample, NN_plot_i, titles=NN_titles_i, suptitle=f\"NNs of fiber sample {i}\", n=n+1, save_name=f\"6NNs{i}\", mark_first= \"fiber sample\"))\n",
    "    if save:\n",
    "        out_path = f\"plots/{plot_dir}/{nums[j]}_stacked.png\"\n",
    "        stack_images_vertically(paths, out_path)\n",
    "        out_path_NN = f\"plots/{plot_dir}/{nums[j]}_stackedNNs.png\"\n",
    "        stack_images_vertically(paths_NNs, out_path_NN)"
   ]
  },
  {
   "cell_type": "code",
   "execution_count": null,
   "id": "313d1c35-9b09-4304-8acb-56a0a44f993c",
   "metadata": {},
   "outputs": [],
   "source": [
    "def plot_images(ind, x_plot, n=8, titles=None, suptitle=None, mark_first=False, mark_second=False, save_name=None):\n",
    "    fig, axes = plt.subplots(nrows=1, ncols=n, figsize=(15, 3))\n",
    "    for i in range(n):\n",
    "        axes[i].imshow(x_plot[i].detach().cpu().reshape(16, 16).T, cmap='gray', vmin=0, vmax=1)\n",
    "        axes[i].xaxis.set_tick_params(labelbottom=False)\n",
    "        axes[i].yaxis.set_tick_params(labelleft=False)\n",
    "        axes[i].set_xticks([])\n",
    "        axes[i].set_yticks([])\n",
    "        if isinstance(titles, np.ndarray):\n",
    "            axes[i].set_title(titles[i])\n",
    "        elif isinstance(titles, tuple) and i>0:\n",
    "            axes[i].set_title(f\"label: {titles[0][i]}\")\n",
    "            axes[i].set_xlabel(f\"dist: {titles[1][i]:.2f}\")\n",
    "        elif titles != None:\n",
    "            axes[i].set_title(titles[i])\n",
    "    if mark_first:\n",
    "        for spine in axes[0].spines.values():\n",
    "            spine.set_edgecolor('red')\n",
    "            spine.set_linewidth(2)\n",
    "        axes[0].set_title(mark_first)\n",
    "    if mark_second:\n",
    "        for spine in axes[1].spines.values():\n",
    "            spine.set_edgecolor('green')\n",
    "            spine.set_linewidth(2)\n",
    "        axes[1].set_xlabel(r\"VAE($x$)\")\n",
    "    if suptitle != None:\n",
    "        fig.suptitle(suptitle)\n",
    "    fig.tight_layout()\n",
    "    path = f\"plots/{plot_dir}/{nums[ind]}_{save_name}.png\"\n",
    "    if save:\n",
    "        plt.savefig(path, bbox_inches='tight')\n",
    "        #plt.close()\n",
    "    return path"
   ]
  },
  {
   "cell_type": "code",
   "execution_count": null,
   "id": "4a004368-d36a-4d6a-bb12-ad4a297938a2",
   "metadata": {},
   "outputs": [],
   "source": [
    "zrange = 4 *std_z0\n",
    "nums = [0,9,7,9,2,2,3,1,0,0,6,4,9,3,8,2,0,8,0,0,0,0,0,0,0,0,0,0,0,0,0,0,0,0,0,5]\n",
    "ran = [35,0,12,2,5,6,7,10,11,14]\n",
    "ran = [0]\n",
    "\n",
    "for j in ran:\n",
    "    plot_details(model, data, j, zrange, GD_steps=20, sanity=False)"
   ]
  },
  {
   "cell_type": "code",
   "execution_count": null,
   "id": "5c72f5dd-42e6-4d55-9b12-753cc066efe7",
   "metadata": {},
   "outputs": [],
   "source": []
  }
 ],
 "metadata": {
  "kernelspec": {
   "display_name": "Python 3 (ipykernel)",
   "language": "python",
   "name": "python3"
  },
  "language_info": {
   "codemirror_mode": {
    "name": "ipython",
    "version": 3
   },
   "file_extension": ".py",
   "mimetype": "text/x-python",
   "name": "python",
   "nbconvert_exporter": "python",
   "pygments_lexer": "ipython3",
   "version": "3.10.12"
  }
 },
 "nbformat": 4,
 "nbformat_minor": 5
}
