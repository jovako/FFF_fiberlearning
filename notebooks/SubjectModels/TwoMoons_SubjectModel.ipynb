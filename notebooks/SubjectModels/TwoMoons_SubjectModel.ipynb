{
 "cells": [
  {
   "cell_type": "code",
   "execution_count": 1,
   "id": "5767c603-49cb-4568-933e-0e48bbeb412a",
   "metadata": {},
   "outputs": [
    {
     "name": "stdout",
     "output_type": "stream",
     "text": [
      "/home/armand/PhD/FFF_fiberlearning\n"
     ]
    }
   ],
   "source": [
    "%cd ../.."
   ]
  },
  {
   "cell_type": "code",
   "execution_count": 2,
   "id": "253a519a-ca25-4ce9-8436-3dd387706cd2",
   "metadata": {},
   "outputs": [
    {
     "name": "stderr",
     "output_type": "stream",
     "text": [
      "INFO: Using pytorch backend\n",
      "INFO: Note: NumExpr detected 12 cores but \"NUMEXPR_MAX_THREADS\" not set, so enforcing safe limit of 8.\n",
      "INFO: NumExpr defaulting to 8 threads.\n"
     ]
    },
    {
     "name": "stdout",
     "output_type": "stream",
     "text": [
      "2moons\n"
     ]
    }
   ],
   "source": [
    "from fff.data import load_dataset\n",
    "\n",
    "datasets = load_dataset(\"2moons\")"
   ]
  },
  {
   "cell_type": "code",
   "execution_count": 3,
   "id": "37a381e0-fd96-4936-a865-dbd74a20c3ed",
   "metadata": {},
   "outputs": [],
   "source": [
    "from fff import FreeFormInjectiveFlow, FreeFormInjectiveFlowHParams\n",
    "from fff.model import ResNet\n",
    "\n",
    "config = { \n",
    "    \"latent_distribution\": {\n",
    "      \"name\": \"normal\",\n",
    "    },\n",
    "    \"data_set\": {\n",
    "      \"name\": \"2moons\",\n",
    "    },\n",
    "    \n",
    "    \"noise\": 0.1,\n",
    "    \n",
    "    \"loss_weights\": {\n",
    "      \"nll\": 1,\n",
    "      \"noisy_reconstruction\": 10,\n",
    "    },\n",
    "    \n",
    "    \"models\": \n",
    "        [{\"name\": \"fff.model.ResNet\",\n",
    "        \"latent_dim\": 1,\n",
    "        \"layers_spec\": [[256, 256], [256, 256]]}],\n",
    "    \n",
    "    \n",
    "    \"lr_scheduler\": \"onecyclelr\",\n",
    "    \n",
    "    \"batch_size\": 128,\n",
    "    \"optimizer\": {\n",
    "      \"name\": \"adam\",\n",
    "      \"lr\": 0.001,\n",
    "      #weight_decay: 0.0001\n",
    "    },\n",
    "    \n",
    "    \"max_epochs\": 25,\n",
    "    \n",
    "    \"num_workers\": 4,\n",
    "    \"gradient_clip\": 3.0,\n",
    "    \"accelerator\": \"gpu\",\n",
    "}\n",
    "\n",
    "SubjectModelHParams = FreeFormInjectiveFlowHParams(**config)"
   ]
  },
  {
   "cell_type": "code",
   "execution_count": 4,
   "id": "1097e84e-f93a-497a-8004-2833c8a21d84",
   "metadata": {},
   "outputs": [
    {
     "name": "stdout",
     "output_type": "stream",
     "text": [
      "2moons\n",
      "cond_dim:  0\n",
      "latent_dim:  1\n"
     ]
    }
   ],
   "source": [
    "SubjectModel = FreeFormInjectiveFlow(hparams=SubjectModelHParams)"
   ]
  },
  {
   "cell_type": "code",
   "execution_count": 5,
   "id": "0d874259-ac34-429d-96f8-32e50289cec2",
   "metadata": {},
   "outputs": [
    {
     "name": "stderr",
     "output_type": "stream",
     "text": [
      "INFO: GPU available: True (cuda), used: True\n",
      "INFO: GPU available: True (cuda), used: True\n",
      "INFO: TPU available: False, using: 0 TPU cores\n",
      "INFO: TPU available: False, using: 0 TPU cores\n",
      "INFO: IPU available: False, using: 0 IPUs\n",
      "INFO: IPU available: False, using: 0 IPUs\n",
      "INFO: HPU available: False, using: 0 HPUs\n",
      "INFO: HPU available: False, using: 0 HPUs\n",
      "INFO: The following callbacks returned in `LightningModule.configure_callbacks` will override existing callbacks passed to Trainer: ModelCheckpoint\n",
      "INFO: The following callbacks returned in `LightningModule.configure_callbacks` will override existing callbacks passed to Trainer: ModelCheckpoint\n",
      "2025-01-09 16:21:27.108002: I tensorflow/tsl/cuda/cudart_stub.cc:28] Could not find cuda drivers on your machine, GPU will not be used.\n",
      "2025-01-09 16:21:27.143576: I tensorflow/core/platform/cpu_feature_guard.cc:182] This TensorFlow binary is optimized to use available CPU instructions in performance-critical operations.\n",
      "To enable the following instructions: AVX2 FMA, in other operations, rebuild TensorFlow with the appropriate compiler flags.\n",
      "2025-01-09 16:21:27.747674: W tensorflow/compiler/tf2tensorrt/utils/py_utils.cc:38] TF-TRT Warning: Could not find TensorRT\n",
      "INFO: LOCAL_RANK: 0 - CUDA_VISIBLE_DEVICES: [0]\n",
      "INFO: LOCAL_RANK: 0 - CUDA_VISIBLE_DEVICES: [0]\n",
      "INFO: \n",
      "  | Name   | Type       | Params\n",
      "--------------------------------------\n",
      "0 | models | Sequential | 268 K \n",
      "--------------------------------------\n",
      "268 K     Trainable params\n",
      "0         Non-trainable params\n",
      "268 K     Total params\n",
      "1.073     Total estimated model params size (MB)\n",
      "INFO: \n",
      "  | Name   | Type       | Params\n",
      "--------------------------------------\n",
      "0 | models | Sequential | 268 K \n",
      "--------------------------------------\n",
      "268 K     Trainable params\n",
      "0         Non-trainable params\n",
      "268 K     Total params\n",
      "1.073     Total estimated model params size (MB)\n"
     ]
    },
    {
     "data": {
      "application/vnd.jupyter.widget-view+json": {
       "model_id": "",
       "version_major": 2,
       "version_minor": 0
      },
      "text/plain": [
       "Sanity Checking: 0it [00:00, ?it/s]"
      ]
     },
     "metadata": {},
     "output_type": "display_data"
    },
    {
     "data": {
      "application/vnd.jupyter.widget-view+json": {
       "model_id": "fed875ce2ae14b12b36222a686b30c47",
       "version_major": 2,
       "version_minor": 0
      },
      "text/plain": [
       "Training: 0it [00:00, ?it/s]"
      ]
     },
     "metadata": {},
     "output_type": "display_data"
    },
    {
     "data": {
      "application/vnd.jupyter.widget-view+json": {
       "model_id": "",
       "version_major": 2,
       "version_minor": 0
      },
      "text/plain": [
       "Validation: 0it [00:00, ?it/s]"
      ]
     },
     "metadata": {},
     "output_type": "display_data"
    },
    {
     "data": {
      "application/vnd.jupyter.widget-view+json": {
       "model_id": "",
       "version_major": 2,
       "version_minor": 0
      },
      "text/plain": [
       "Validation: 0it [00:00, ?it/s]"
      ]
     },
     "metadata": {},
     "output_type": "display_data"
    },
    {
     "data": {
      "application/vnd.jupyter.widget-view+json": {
       "model_id": "",
       "version_major": 2,
       "version_minor": 0
      },
      "text/plain": [
       "Validation: 0it [00:00, ?it/s]"
      ]
     },
     "metadata": {},
     "output_type": "display_data"
    },
    {
     "data": {
      "application/vnd.jupyter.widget-view+json": {
       "model_id": "",
       "version_major": 2,
       "version_minor": 0
      },
      "text/plain": [
       "Validation: 0it [00:00, ?it/s]"
      ]
     },
     "metadata": {},
     "output_type": "display_data"
    },
    {
     "data": {
      "application/vnd.jupyter.widget-view+json": {
       "model_id": "",
       "version_major": 2,
       "version_minor": 0
      },
      "text/plain": [
       "Validation: 0it [00:00, ?it/s]"
      ]
     },
     "metadata": {},
     "output_type": "display_data"
    },
    {
     "data": {
      "application/vnd.jupyter.widget-view+json": {
       "model_id": "",
       "version_major": 2,
       "version_minor": 0
      },
      "text/plain": [
       "Validation: 0it [00:00, ?it/s]"
      ]
     },
     "metadata": {},
     "output_type": "display_data"
    },
    {
     "data": {
      "application/vnd.jupyter.widget-view+json": {
       "model_id": "",
       "version_major": 2,
       "version_minor": 0
      },
      "text/plain": [
       "Validation: 0it [00:00, ?it/s]"
      ]
     },
     "metadata": {},
     "output_type": "display_data"
    },
    {
     "data": {
      "application/vnd.jupyter.widget-view+json": {
       "model_id": "",
       "version_major": 2,
       "version_minor": 0
      },
      "text/plain": [
       "Validation: 0it [00:00, ?it/s]"
      ]
     },
     "metadata": {},
     "output_type": "display_data"
    },
    {
     "data": {
      "application/vnd.jupyter.widget-view+json": {
       "model_id": "",
       "version_major": 2,
       "version_minor": 0
      },
      "text/plain": [
       "Validation: 0it [00:00, ?it/s]"
      ]
     },
     "metadata": {},
     "output_type": "display_data"
    },
    {
     "data": {
      "application/vnd.jupyter.widget-view+json": {
       "model_id": "",
       "version_major": 2,
       "version_minor": 0
      },
      "text/plain": [
       "Validation: 0it [00:00, ?it/s]"
      ]
     },
     "metadata": {},
     "output_type": "display_data"
    },
    {
     "data": {
      "application/vnd.jupyter.widget-view+json": {
       "model_id": "",
       "version_major": 2,
       "version_minor": 0
      },
      "text/plain": [
       "Validation: 0it [00:00, ?it/s]"
      ]
     },
     "metadata": {},
     "output_type": "display_data"
    },
    {
     "data": {
      "application/vnd.jupyter.widget-view+json": {
       "model_id": "",
       "version_major": 2,
       "version_minor": 0
      },
      "text/plain": [
       "Validation: 0it [00:00, ?it/s]"
      ]
     },
     "metadata": {},
     "output_type": "display_data"
    },
    {
     "data": {
      "application/vnd.jupyter.widget-view+json": {
       "model_id": "",
       "version_major": 2,
       "version_minor": 0
      },
      "text/plain": [
       "Validation: 0it [00:00, ?it/s]"
      ]
     },
     "metadata": {},
     "output_type": "display_data"
    },
    {
     "data": {
      "application/vnd.jupyter.widget-view+json": {
       "model_id": "",
       "version_major": 2,
       "version_minor": 0
      },
      "text/plain": [
       "Validation: 0it [00:00, ?it/s]"
      ]
     },
     "metadata": {},
     "output_type": "display_data"
    },
    {
     "data": {
      "application/vnd.jupyter.widget-view+json": {
       "model_id": "",
       "version_major": 2,
       "version_minor": 0
      },
      "text/plain": [
       "Validation: 0it [00:00, ?it/s]"
      ]
     },
     "metadata": {},
     "output_type": "display_data"
    },
    {
     "data": {
      "application/vnd.jupyter.widget-view+json": {
       "model_id": "",
       "version_major": 2,
       "version_minor": 0
      },
      "text/plain": [
       "Validation: 0it [00:00, ?it/s]"
      ]
     },
     "metadata": {},
     "output_type": "display_data"
    },
    {
     "data": {
      "application/vnd.jupyter.widget-view+json": {
       "model_id": "",
       "version_major": 2,
       "version_minor": 0
      },
      "text/plain": [
       "Validation: 0it [00:00, ?it/s]"
      ]
     },
     "metadata": {},
     "output_type": "display_data"
    },
    {
     "data": {
      "application/vnd.jupyter.widget-view+json": {
       "model_id": "",
       "version_major": 2,
       "version_minor": 0
      },
      "text/plain": [
       "Validation: 0it [00:00, ?it/s]"
      ]
     },
     "metadata": {},
     "output_type": "display_data"
    },
    {
     "data": {
      "application/vnd.jupyter.widget-view+json": {
       "model_id": "",
       "version_major": 2,
       "version_minor": 0
      },
      "text/plain": [
       "Validation: 0it [00:00, ?it/s]"
      ]
     },
     "metadata": {},
     "output_type": "display_data"
    },
    {
     "data": {
      "application/vnd.jupyter.widget-view+json": {
       "model_id": "",
       "version_major": 2,
       "version_minor": 0
      },
      "text/plain": [
       "Validation: 0it [00:00, ?it/s]"
      ]
     },
     "metadata": {},
     "output_type": "display_data"
    },
    {
     "data": {
      "application/vnd.jupyter.widget-view+json": {
       "model_id": "",
       "version_major": 2,
       "version_minor": 0
      },
      "text/plain": [
       "Validation: 0it [00:00, ?it/s]"
      ]
     },
     "metadata": {},
     "output_type": "display_data"
    },
    {
     "data": {
      "application/vnd.jupyter.widget-view+json": {
       "model_id": "",
       "version_major": 2,
       "version_minor": 0
      },
      "text/plain": [
       "Validation: 0it [00:00, ?it/s]"
      ]
     },
     "metadata": {},
     "output_type": "display_data"
    },
    {
     "data": {
      "application/vnd.jupyter.widget-view+json": {
       "model_id": "",
       "version_major": 2,
       "version_minor": 0
      },
      "text/plain": [
       "Validation: 0it [00:00, ?it/s]"
      ]
     },
     "metadata": {},
     "output_type": "display_data"
    },
    {
     "data": {
      "application/vnd.jupyter.widget-view+json": {
       "model_id": "",
       "version_major": 2,
       "version_minor": 0
      },
      "text/plain": [
       "Validation: 0it [00:00, ?it/s]"
      ]
     },
     "metadata": {},
     "output_type": "display_data"
    },
    {
     "data": {
      "application/vnd.jupyter.widget-view+json": {
       "model_id": "",
       "version_major": 2,
       "version_minor": 0
      },
      "text/plain": [
       "Validation: 0it [00:00, ?it/s]"
      ]
     },
     "metadata": {},
     "output_type": "display_data"
    },
    {
     "name": "stderr",
     "output_type": "stream",
     "text": [
      "INFO: `Trainer.fit` stopped: `max_epochs=25` reached.\n",
      "INFO: `Trainer.fit` stopped: `max_epochs=25` reached.\n"
     ]
    },
    {
     "data": {
      "text/plain": [
       "{'training/z 1D-Wasserstein-1': 0.2851231098175049,\n",
       " 'training/z std': 1.2057076692581177,\n",
       " 'training/loss': 0.6177794933319092,\n",
       " 'training/nll': 0.38225385546684265,\n",
       " 'training/reconstruction': 0.026617616415023804,\n",
       " 'training/noisy_reconstruction': 0.023552563041448593,\n",
       " 'validation/z 1D-Wasserstein-1': 0.2077654004096985,\n",
       " 'validation/z std': 1.1279802322387695,\n",
       " 'validation/loss': 2.7374229431152344,\n",
       " 'validation/nll': 2.4010748863220215,\n",
       " 'validation/vol_change_encoder': -0.5727848410606384,\n",
       " 'validation/vol_change_decoder': -0.8455078601837158,\n",
       " 'validation/nll_encoder': 2.128352165222168,\n",
       " 'validation/nll_decoder': 2.4010748863220215,\n",
       " 'validation/reconstruction': 0.03979344293475151,\n",
       " 'validation/noisy_reconstruction': 0.033634789288043976,\n",
       " 'validation/z_reconstruction': 0.013313465751707554,\n",
       " 'validation/z_reconstruction_encoder': 0.013313465751707554,\n",
       " 'validation/z_sample_reconstruction': 0.0498717799782753,\n",
       " 'validation/x_sample_reconstruction': nan,\n",
       " 'validation/shuffled_reconstruction': 0.033634793013334274}"
      ]
     },
     "execution_count": 5,
     "metadata": {},
     "output_type": "execute_result"
    }
   ],
   "source": [
    "SubjectModel.fit(\n",
    "    logger_kwargs={\"save_dir\": \"notebooks/SubjectModels/saved_models\", \"name\": \"SubjectModel_ResNet_2moons\"},\n",
    ")"
   ]
  },
  {
   "cell_type": "code",
   "execution_count": 6,
   "id": "507944e9-7826-47ce-b1f0-9ad1b49d4978",
   "metadata": {},
   "outputs": [
    {
     "name": "stderr",
     "output_type": "stream",
     "text": [
      "/home/armand/miniconda3/lib/python3.10/site-packages/torch/functional.py:534: UserWarning: torch.meshgrid: in an upcoming release, it will be required to pass the indexing argument. (Triggered internally at ../aten/src/ATen/native/TensorShape.cpp:3595.)\n",
      "  return _VF.meshgrid(tensors, **kwargs)  # type: ignore[attr-defined]\n",
      "/home/armand/PhD/FFF_fiberlearning/fff/evaluate/plots.py:336: UserWarning: No data for colormapping provided via 'c'. Parameters 'cmap' will be ignored\n",
      "  plt.scatter(*train_samples.T, s=1, cmap=data_cmap)\n"
     ]
    },
    {
     "data": {
      "image/png": "[encoded data removed]",
      "text/plain": [
       "<Figure size 640x480 with 1 Axes>"
      ]
     },
     "metadata": {},
     "output_type": "display_data"
    }
   ],
   "source": [
    "from fff.evaluate.plots import plot_latent_codes,plot_latent_codes_2d_1d\n",
    "\n",
    "plot_latent_codes_2d_1d(SubjectModel)"
   ]
  },
  {
   "cell_type": "code",
   "execution_count": 12,
   "id": "5e211e77-541f-4b5e-abfa-b0b1021521f1",
   "metadata": {},
   "outputs": [],
   "source": [
    "from torch.utils.data import TensorDataset\n",
    "import torch\n",
    "\n",
    "@torch.no_grad()\n",
    "def get_dataset_from_subject_model(SubjectModel):\n",
    "    train_set, val_set, test_set = SubjectModel.train_data[:], SubjectModel.val_data[:], SubjectModel.test_data[:]\n",
    "    train_conditioned, val_conditioned, test_conditioned = SubjectModel.apply_conditions(train_set), SubjectModel.apply_conditions(val_set), SubjectModel.apply_conditions(test_set)\n",
    "    train_z, val_z, test_z = SubjectModel.encode(train_conditioned.x_noisy, train_conditioned.condition), \\\n",
    "                             SubjectModel.encode(val_conditioned.x_noisy, val_conditioned.condition), \\\n",
    "                             SubjectModel.encode(test_conditioned.x_noisy, test_conditioned.condition)\n",
    "\n",
    "    datasets = (\n",
    "        TensorDataset(train_conditioned.x_noisy, train_z),\n",
    "        TensorDataset(val_conditioned.x_noisy, val_z),\n",
    "        TensorDataset(test_conditioned.x_noisy, test_z),\n",
    "    )\n",
    "    return datasets"
   ]
  },
  {
   "cell_type": "code",
   "execution_count": 13,
   "id": "27a01e3c-dc06-4108-9a4c-e12907ba57ff",
   "metadata": {},
   "outputs": [],
   "source": [
    "datasets_fiber_model = get_dataset_from_subject_model(SubjectModel)"
   ]
  },
  {
   "cell_type": "code",
   "execution_count": 14,
   "id": "0195dd57-fcfe-40fd-ae55-96f4d2a04720",
   "metadata": {},
   "outputs": [],
   "source": [
    "import os\n",
    "\n",
    "os.makedirs(\"datasets/SubjectModel_ResNet_2moons\", exist_ok=True)\n",
    "\n",
    "torch.save(datasets_fiber_model[0], \"datasets/SubjectModel_ResNet_2moons/train.pt\")\n",
    "torch.save(datasets_fiber_model[1], \"datasets/SubjectModel_ResNet_2moons/val.pt\")\n",
    "torch.save(datasets_fiber_model[2], \"datasets/SubjectModel_ResNet_2moons/test.pt\")\n",
    "torch.save(SubjectModel, \"datasets/SubjectModel_ResNet_2moons/subject_model.pt\")"
   ]
  },
  {
   "cell_type": "code",
   "execution_count": 10,
   "id": "db976b88-91be-49ef-b8c4-6e321cb0af8b",
   "metadata": {},
   "outputs": [
    {
     "name": "stderr",
     "output_type": "stream",
     "text": [
      "/tmp/ipykernel_14911/2731756106.py:4: FutureWarning: You are using `torch.load` with `weights_only=False` (the current default value), which uses the default pickle module implicitly. It is possible to construct malicious pickle data which will execute arbitrary code during unpickling (See https://github.com/pytorch/pytorch/blob/main/SECURITY.md#untrusted-models for more details). In a future release, the default value for `weights_only` will be flipped to `True`. This limits the functions that could be executed during unpickling. Arbitrary objects will no longer be allowed to be loaded via this mode unless they are explicitly allowlisted by the user via `torch.serialization.add_safe_globals`. We recommend you start setting `weights_only=True` for any use case where you don't have full control of the loaded file. Please open an issue on GitHub for any issues related to this experimental feature.\n",
      "  ds = torch.load(\"datasets/SubjectModel_ResNet_2moons/train.pt\")\n"
     ]
    },
    {
     "data": {
      "image/png": "[encoded data removed]",
      "text/plain": [
       "<Figure size 1400x600 with 2 Axes>"
      ]
     },
     "metadata": {},
     "output_type": "display_data"
    }
   ],
   "source": [
    "# Sanity check\n",
    "import matplotlib.pyplot as plt\n",
    "\n",
    "ds = torch.load(\"datasets/SubjectModel_ResNet_2moons/train.pt\")\n",
    "\n",
    "plt.figure(figsize=(14, 6))\n",
    "plt.subplot(1, 2, 1)\n",
    "plt.title(\"Data distribution\")\n",
    "plt.hist2d(*ds[:][0].T, bins=30)\n",
    "plt.subplot(1, 2, 2)\n",
    "plt.title(\"Condition distribution\")\n",
    "plt.hist(ds[:][1], bins=30, range=[-3, 3])\n",
    "plt.show()"
   ]
  }
 ],
 "metadata": {
  "kernelspec": {
   "display_name": "Python 3 (ipykernel)",
   "language": "python",
   "name": "python3"
  },
  "language_info": {
   "codemirror_mode": {
    "name": "ipython",
    "version": 3
   },
   "file_extension": ".py",
   "mimetype": "text/x-python",
   "name": "python",
   "nbconvert_exporter": "python",
   "pygments_lexer": "ipython3",
   "version": "3.10.12"
  }
 },
 "nbformat": 4,
 "nbformat_minor": 5
}
