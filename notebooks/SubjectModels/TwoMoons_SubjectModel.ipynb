{
 "cells": [
  {
   "cell_type": "code",
   "execution_count": 1,
   "id": "5767c603-49cb-4568-933e-0e48bbeb412a",
   "metadata": {},
   "outputs": [
    {
     "name": "stdout",
     "output_type": "stream",
     "text": [
      "/home/armand/PhD/FFF_fiberlearning\n"
     ]
    }
   ],
   "source": [
    "%cd ../.."
   ]
  },
  {
   "cell_type": "code",
   "execution_count": 2,
   "id": "253a519a-ca25-4ce9-8436-3dd387706cd2",
   "metadata": {},
   "outputs": [
    {
     "name": "stderr",
     "output_type": "stream",
     "text": [
      "INFO: Using pytorch backend\n",
      "INFO: Note: NumExpr detected 12 cores but \"NUMEXPR_MAX_THREADS\" not set, so enforcing safe limit of 8.\n",
      "INFO: NumExpr defaulting to 8 threads.\n"
     ]
    },
    {
     "name": "stdout",
     "output_type": "stream",
     "text": [
      "2moons\n"
     ]
    }
   ],
   "source": [
    "from fff.data import load_dataset\n",
    "\n",
    "datasets = load_dataset(\"2moons\")"
   ]
  },
  {
   "cell_type": "code",
   "execution_count": 6,
   "id": "37a381e0-fd96-4936-a865-dbd74a20c3ed",
   "metadata": {},
   "outputs": [],
   "source": [
    "from fff import FreeFormInjectiveFlow, FreeFormInjectiveFlowHParams\n",
    "from fff.model import ResNet\n",
    "\n",
    "config = { \n",
    "    \"latent_distribution\": {\n",
    "      \"name\": \"normal\",\n",
    "    },\n",
    "    \"data_set\": {\n",
    "      \"name\": \"2moons\",\n",
    "    },\n",
    "    \n",
    "    \"noise\": 0.1,\n",
    "    \n",
    "    \"loss_weights\": {\n",
    "      \"nll\": 1,\n",
    "      \"noisy_reconstruction\": 10,\n",
    "    },\n",
    "    \n",
    "    \"models\": \n",
    "        [{\"name\": \"fff.model.ResNet\",\n",
    "        \"latent_dim\": 1,\n",
    "        \"layers_spec\": [[256, 256], [256, 256]]}],\n",
    "    \n",
    "    \n",
    "    \"lr_scheduler\": \"onecyclelr\",\n",
    "    \n",
    "    \"batch_size\": 128,\n",
    "    \"optimizer\": {\n",
    "      \"name\": \"adam\",\n",
    "      \"lr\": 0.001,\n",
    "      #weight_decay: 0.0001\n",
    "    },\n",
    "    \n",
    "    \"max_epochs\": 25,\n",
    "    \n",
    "    \"num_workers\": 4,\n",
    "    \"gradient_clip\": 3.0,\n",
    "    \"accelerator\": \"gpu\",\n",
    "}\n",
    "\n",
    "SubjectModelHParams = FreeFormInjectiveFlowHParams(**config)"
   ]
  },
  {
   "cell_type": "code",
   "execution_count": 7,
   "id": "1097e84e-f93a-497a-8004-2833c8a21d84",
   "metadata": {},
   "outputs": [
    {
     "name": "stdout",
     "output_type": "stream",
     "text": [
      "2moons\n",
      "cond_dim:  0\n",
      "latent_dim:  1\n"
     ]
    }
   ],
   "source": [
    "SubjectModel = FreeFormInjectiveFlow(hparams=SubjectModelHParams)"
   ]
  },
  {
   "cell_type": "code",
   "execution_count": 8,
   "id": "0d874259-ac34-429d-96f8-32e50289cec2",
   "metadata": {},
   "outputs": [
    {
     "name": "stderr",
     "output_type": "stream",
     "text": [
      "INFO: GPU available: True (cuda), used: True\n",
      "INFO: GPU available: True (cuda), used: True\n",
      "INFO: TPU available: False, using: 0 TPU cores\n",
      "INFO: TPU available: False, using: 0 TPU cores\n",
      "INFO: IPU available: False, using: 0 IPUs\n",
      "INFO: IPU available: False, using: 0 IPUs\n",
      "INFO: HPU available: False, using: 0 HPUs\n",
      "INFO: HPU available: False, using: 0 HPUs\n",
      "INFO: The following callbacks returned in `LightningModule.configure_callbacks` will override existing callbacks passed to Trainer: ModelCheckpoint\n",
      "INFO: The following callbacks returned in `LightningModule.configure_callbacks` will override existing callbacks passed to Trainer: ModelCheckpoint\n",
      "INFO: LOCAL_RANK: 0 - CUDA_VISIBLE_DEVICES: [0]\n",
      "INFO: LOCAL_RANK: 0 - CUDA_VISIBLE_DEVICES: [0]\n",
      "INFO: \n",
      "  | Name   | Type       | Params\n",
      "--------------------------------------\n",
      "0 | models | Sequential | 268 K \n",
      "--------------------------------------\n",
      "268 K     Trainable params\n",
      "0         Non-trainable params\n",
      "268 K     Total params\n",
      "1.073     Total estimated model params size (MB)\n",
      "INFO: \n",
      "  | Name   | Type       | Params\n",
      "--------------------------------------\n",
      "0 | models | Sequential | 268 K \n",
      "--------------------------------------\n",
      "268 K     Trainable params\n",
      "0         Non-trainable params\n",
      "268 K     Total params\n",
      "1.073     Total estimated model params size (MB)\n"
     ]
    },
    {
     "data": {
      "application/vnd.jupyter.widget-view+json": {
       "model_id": "",
       "version_major": 2,
       "version_minor": 0
      },
      "text/plain": [
       "Sanity Checking: 0it [00:00, ?it/s]"
      ]
     },
     "metadata": {},
     "output_type": "display_data"
    },
    {
     "data": {
      "application/vnd.jupyter.widget-view+json": {
       "model_id": "b3aa1a3661874aa28f6e91640bd45240",
       "version_major": 2,
       "version_minor": 0
      },
      "text/plain": [
       "Training: 0it [00:00, ?it/s]"
      ]
     },
     "metadata": {},
     "output_type": "display_data"
    },
    {
     "data": {
      "application/vnd.jupyter.widget-view+json": {
       "model_id": "",
       "version_major": 2,
       "version_minor": 0
      },
      "text/plain": [
       "Validation: 0it [00:00, ?it/s]"
      ]
     },
     "metadata": {},
     "output_type": "display_data"
    },
    {
     "data": {
      "application/vnd.jupyter.widget-view+json": {
       "model_id": "",
       "version_major": 2,
       "version_minor": 0
      },
      "text/plain": [
       "Validation: 0it [00:00, ?it/s]"
      ]
     },
     "metadata": {},
     "output_type": "display_data"
    },
    {
     "data": {
      "application/vnd.jupyter.widget-view+json": {
       "model_id": "",
       "version_major": 2,
       "version_minor": 0
      },
      "text/plain": [
       "Validation: 0it [00:00, ?it/s]"
      ]
     },
     "metadata": {},
     "output_type": "display_data"
    },
    {
     "data": {
      "application/vnd.jupyter.widget-view+json": {
       "model_id": "",
       "version_major": 2,
       "version_minor": 0
      },
      "text/plain": [
       "Validation: 0it [00:00, ?it/s]"
      ]
     },
     "metadata": {},
     "output_type": "display_data"
    },
    {
     "data": {
      "application/vnd.jupyter.widget-view+json": {
       "model_id": "",
       "version_major": 2,
       "version_minor": 0
      },
      "text/plain": [
       "Validation: 0it [00:00, ?it/s]"
      ]
     },
     "metadata": {},
     "output_type": "display_data"
    },
    {
     "data": {
      "application/vnd.jupyter.widget-view+json": {
       "model_id": "",
       "version_major": 2,
       "version_minor": 0
      },
      "text/plain": [
       "Validation: 0it [00:00, ?it/s]"
      ]
     },
     "metadata": {},
     "output_type": "display_data"
    },
    {
     "data": {
      "application/vnd.jupyter.widget-view+json": {
       "model_id": "",
       "version_major": 2,
       "version_minor": 0
      },
      "text/plain": [
       "Validation: 0it [00:00, ?it/s]"
      ]
     },
     "metadata": {},
     "output_type": "display_data"
    },
    {
     "data": {
      "application/vnd.jupyter.widget-view+json": {
       "model_id": "",
       "version_major": 2,
       "version_minor": 0
      },
      "text/plain": [
       "Validation: 0it [00:00, ?it/s]"
      ]
     },
     "metadata": {},
     "output_type": "display_data"
    },
    {
     "data": {
      "application/vnd.jupyter.widget-view+json": {
       "model_id": "",
       "version_major": 2,
       "version_minor": 0
      },
      "text/plain": [
       "Validation: 0it [00:00, ?it/s]"
      ]
     },
     "metadata": {},
     "output_type": "display_data"
    },
    {
     "data": {
      "application/vnd.jupyter.widget-view+json": {
       "model_id": "",
       "version_major": 2,
       "version_minor": 0
      },
      "text/plain": [
       "Validation: 0it [00:00, ?it/s]"
      ]
     },
     "metadata": {},
     "output_type": "display_data"
    },
    {
     "data": {
      "application/vnd.jupyter.widget-view+json": {
       "model_id": "",
       "version_major": 2,
       "version_minor": 0
      },
      "text/plain": [
       "Validation: 0it [00:00, ?it/s]"
      ]
     },
     "metadata": {},
     "output_type": "display_data"
    },
    {
     "data": {
      "application/vnd.jupyter.widget-view+json": {
       "model_id": "",
       "version_major": 2,
       "version_minor": 0
      },
      "text/plain": [
       "Validation: 0it [00:00, ?it/s]"
      ]
     },
     "metadata": {},
     "output_type": "display_data"
    },
    {
     "data": {
      "application/vnd.jupyter.widget-view+json": {
       "model_id": "",
       "version_major": 2,
       "version_minor": 0
      },
      "text/plain": [
       "Validation: 0it [00:00, ?it/s]"
      ]
     },
     "metadata": {},
     "output_type": "display_data"
    },
    {
     "data": {
      "application/vnd.jupyter.widget-view+json": {
       "model_id": "",
       "version_major": 2,
       "version_minor": 0
      },
      "text/plain": [
       "Validation: 0it [00:00, ?it/s]"
      ]
     },
     "metadata": {},
     "output_type": "display_data"
    },
    {
     "data": {
      "application/vnd.jupyter.widget-view+json": {
       "model_id": "",
       "version_major": 2,
       "version_minor": 0
      },
      "text/plain": [
       "Validation: 0it [00:00, ?it/s]"
      ]
     },
     "metadata": {},
     "output_type": "display_data"
    },
    {
     "data": {
      "application/vnd.jupyter.widget-view+json": {
       "model_id": "",
       "version_major": 2,
       "version_minor": 0
      },
      "text/plain": [
       "Validation: 0it [00:00, ?it/s]"
      ]
     },
     "metadata": {},
     "output_type": "display_data"
    },
    {
     "data": {
      "application/vnd.jupyter.widget-view+json": {
       "model_id": "",
       "version_major": 2,
       "version_minor": 0
      },
      "text/plain": [
       "Validation: 0it [00:00, ?it/s]"
      ]
     },
     "metadata": {},
     "output_type": "display_data"
    },
    {
     "data": {
      "application/vnd.jupyter.widget-view+json": {
       "model_id": "",
       "version_major": 2,
       "version_minor": 0
      },
      "text/plain": [
       "Validation: 0it [00:00, ?it/s]"
      ]
     },
     "metadata": {},
     "output_type": "display_data"
    },
    {
     "data": {
      "application/vnd.jupyter.widget-view+json": {
       "model_id": "",
       "version_major": 2,
       "version_minor": 0
      },
      "text/plain": [
       "Validation: 0it [00:00, ?it/s]"
      ]
     },
     "metadata": {},
     "output_type": "display_data"
    },
    {
     "data": {
      "application/vnd.jupyter.widget-view+json": {
       "model_id": "",
       "version_major": 2,
       "version_minor": 0
      },
      "text/plain": [
       "Validation: 0it [00:00, ?it/s]"
      ]
     },
     "metadata": {},
     "output_type": "display_data"
    },
    {
     "data": {
      "application/vnd.jupyter.widget-view+json": {
       "model_id": "",
       "version_major": 2,
       "version_minor": 0
      },
      "text/plain": [
       "Validation: 0it [00:00, ?it/s]"
      ]
     },
     "metadata": {},
     "output_type": "display_data"
    },
    {
     "data": {
      "application/vnd.jupyter.widget-view+json": {
       "model_id": "",
       "version_major": 2,
       "version_minor": 0
      },
      "text/plain": [
       "Validation: 0it [00:00, ?it/s]"
      ]
     },
     "metadata": {},
     "output_type": "display_data"
    },
    {
     "data": {
      "application/vnd.jupyter.widget-view+json": {
       "model_id": "",
       "version_major": 2,
       "version_minor": 0
      },
      "text/plain": [
       "Validation: 0it [00:00, ?it/s]"
      ]
     },
     "metadata": {},
     "output_type": "display_data"
    },
    {
     "data": {
      "application/vnd.jupyter.widget-view+json": {
       "model_id": "",
       "version_major": 2,
       "version_minor": 0
      },
      "text/plain": [
       "Validation: 0it [00:00, ?it/s]"
      ]
     },
     "metadata": {},
     "output_type": "display_data"
    },
    {
     "data": {
      "application/vnd.jupyter.widget-view+json": {
       "model_id": "",
       "version_major": 2,
       "version_minor": 0
      },
      "text/plain": [
       "Validation: 0it [00:00, ?it/s]"
      ]
     },
     "metadata": {},
     "output_type": "display_data"
    },
    {
     "name": "stderr",
     "output_type": "stream",
     "text": [
      "INFO: `Trainer.fit` stopped: `max_epochs=25` reached.\n",
      "INFO: `Trainer.fit` stopped: `max_epochs=25` reached.\n"
     ]
    },
    {
     "data": {
      "text/plain": [
       "{'training/z 1D-Wasserstein-1': 0.1425573080778122,\n",
       " 'training/z std': 0.8936209678649902,\n",
       " 'training/loss': 1.1879624128341675,\n",
       " 'training/nll': 0.25706756114959717,\n",
       " 'training/reconstruction': 0.08787433803081512,\n",
       " 'training/noisy_reconstruction': 0.09308949112892151,\n",
       " 'training/sqr_reconstruction': 0.012579234316945076,\n",
       " 'validation/z 1D-Wasserstein-1': 0.15387478470802307,\n",
       " 'validation/z std': nan,\n",
       " 'validation/loss': 3.2056221961975098,\n",
       " 'validation/nll': 2.3609840869903564,\n",
       " 'validation/vol_change_encoder': -0.9035239219665527,\n",
       " 'validation/vol_change_decoder': -0.9465206265449524,\n",
       " 'validation/nll_encoder': 2.3179874420166016,\n",
       " 'validation/nll_decoder': 2.3609840869903564,\n",
       " 'validation/reconstruction': 0.0874020904302597,\n",
       " 'validation/noisy_reconstruction': 0.08446379750967026,\n",
       " 'validation/sqr_reconstruction': 0.011579187586903572,\n",
       " 'validation/masked_reconstruction': 0.08446380496025085,\n",
       " 'validation/z_reconstruction_encoder': 0.0024436949752271175,\n",
       " 'validation/fiber_loss': nan,\n",
       " 'validation/z_sample_reconstruction': 0.004208111669868231}"
      ]
     },
     "execution_count": 8,
     "metadata": {},
     "output_type": "execute_result"
    }
   ],
   "source": [
    "SubjectModel.fit(\n",
    "    logger_kwargs={\"save_dir\": \"notebooks/SubjectModels/saved_models\", \"name\": \"SubjectModel_ResNet_2moons\"},\n",
    ")"
   ]
  },
  {
   "cell_type": "code",
   "execution_count": 16,
   "id": "507944e9-7826-47ce-b1f0-9ad1b49d4978",
   "metadata": {},
   "outputs": [
    {
     "data": {
      "image/png": "[encoded data removed]",
      "text/plain": [
       "<Figure size 640x480 with 1 Axes>"
      ]
     },
     "metadata": {},
     "output_type": "display_data"
    }
   ],
   "source": [
    "from fff.evaluate.plots import plot_latent_codes,plot_latent_codes_2d_1d\n",
    "\n",
    "plot_latent_codes_2d_1d(SubjectModel)"
   ]
  },
  {
   "cell_type": "code",
   "execution_count": 25,
   "id": "5e211e77-541f-4b5e-abfa-b0b1021521f1",
   "metadata": {},
   "outputs": [],
   "source": [
    "from torch.utils.data import TensorDataset\n",
    "import torch\n",
    "\n",
    "@torch.no_grad()\n",
    "def get_dataset_from_subject_model(SubjectModel):\n",
    "    train_set, val_set, test_set = SubjectModel.train_data[:], SubjectModel.val_data[:], SubjectModel.test_data[:]\n",
    "    train_conditioned, val_conditioned, test_conditioned = SubjectModel.apply_conditions(train_set), SubjectModel.apply_conditions(val_set), SubjectModel.apply_conditions(test_set)\n",
    "    train_z, val_z, test_z = SubjectModel.encode(train_conditioned.x_noisy, train_conditioned.condition), \\\n",
    "                             SubjectModel.encode(val_conditioned.x_noisy, val_conditioned.condition), \\\n",
    "                             SubjectModel.encode(test_conditioned.x_noisy, test_conditioned.condition)\n",
    "\n",
    "    datasets = (\n",
    "        TensorDataset(train_conditioned.x_noisy, train_z),\n",
    "        TensorDataset(val_conditioned.x_noisy, val_z),\n",
    "        TensorDataset(test_conditioned.x_noisy, test_z),\n",
    "    )\n",
    "    return datasets"
   ]
  },
  {
   "cell_type": "code",
   "execution_count": 26,
   "id": "27a01e3c-dc06-4108-9a4c-e12907ba57ff",
   "metadata": {},
   "outputs": [],
   "source": [
    "datasets_fiber_model = get_dataset_from_subject_model(SubjectModel)"
   ]
  },
  {
   "cell_type": "code",
   "execution_count": 28,
   "id": "0195dd57-fcfe-40fd-ae55-96f4d2a04720",
   "metadata": {},
   "outputs": [],
   "source": [
    "import os\n",
    "\n",
    "os.makedirs(\"datasets/SubjectModel_ResNet_2moons\", exist_ok=True)\n",
    "\n",
    "torch.save(datasets_fiber_model[0], \"datasets/SubjectModel_ResNet_2moons/train.pt\")\n",
    "torch.save(datasets_fiber_model[1], \"datasets/SubjectModel_ResNet_2moons/val.pt\")\n",
    "torch.save(datasets_fiber_model[2], \"datasets/SubjectModel_ResNet_2moons/test.pt\")"
   ]
  },
  {
   "cell_type": "code",
   "execution_count": 34,
   "id": "db976b88-91be-49ef-b8c4-6e321cb0af8b",
   "metadata": {},
   "outputs": [
    {
     "data": {
      "image/png": "[encoded data removed]",
      "text/plain": [
       "<Figure size 1400x600 with 2 Axes>"
      ]
     },
     "metadata": {},
     "output_type": "display_data"
    }
   ],
   "source": [
    "# Sanity check\n",
    "import matplotlib.pyplot as plt\n",
    "\n",
    "ds = torch.load(\"datasets/SubjectModel_ResNet_2moons/train.pt\")\n",
    "\n",
    "plt.figure(figsize=(14, 6))\n",
    "plt.subplot(1, 2, 1)\n",
    "plt.title(\"Data distribution\")\n",
    "plt.hist2d(*ds[:][0].T, bins=30)\n",
    "plt.subplot(1, 2, 2)\n",
    "plt.title(\"Condition distribution\")\n",
    "plt.hist(ds[:][1], bins=30, range=[-3, 3])\n",
    "plt.show()"
   ]
  },
  {
   "cell_type": "code",
   "execution_count": null,
   "id": "2e33a893-6fbf-450c-a528-471deade530f",
   "metadata": {},
   "outputs": [],
   "source": []
  }
 ],
 "metadata": {
  "kernelspec": {
   "display_name": "Python 3 (ipykernel)",
   "language": "python",
   "name": "python3"
  },
  "language_info": {
   "codemirror_mode": {
    "name": "ipython",
    "version": 3
   },
   "file_extension": ".py",
   "mimetype": "text/x-python",
   "name": "python",
   "nbconvert_exporter": "python",
   "pygments_lexer": "ipython3",
   "version": "3.10.12"
  }
 },
 "nbformat": 4,
 "nbformat_minor": 5
}
