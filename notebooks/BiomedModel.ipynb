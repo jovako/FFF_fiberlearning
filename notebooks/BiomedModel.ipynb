{
 "cells": [
  {
   "cell_type": "code",
   "execution_count": 1,
   "id": "e15e8ea0-2d2a-4852-99f1-d054e62b1b5d",
   "metadata": {},
   "outputs": [
    {
     "name": "stderr",
     "output_type": "stream",
     "text": [
      "/home/armand/miniconda3/lib/python3.10/site-packages/transformers/utils/generic.py:441: FutureWarning: `torch.utils._pytree._register_pytree_node` is deprecated. Please use `torch.utils._pytree.register_pytree_node` instead.\n",
      "  _torch_pytree._register_pytree_node(\n",
      "/home/armand/miniconda3/lib/python3.10/site-packages/transformers/utils/generic.py:309: FutureWarning: `torch.utils._pytree._register_pytree_node` is deprecated. Please use `torch.utils._pytree.register_pytree_node` instead.\n",
      "  _torch_pytree._register_pytree_node(\n",
      "/home/armand/miniconda3/lib/python3.10/site-packages/timm/models/layers/__init__.py:48: FutureWarning: Importing from timm.models.layers is deprecated, please import via timm.layers\n",
      "  warnings.warn(f\"Importing from {__name__} is deprecated, please import via timm.layers\", FutureWarning)\n"
     ]
    },
    {
     "data": {
      "application/vnd.jupyter.widget-view+json": {
       "model_id": "f66fe20cbe374cdd8afc9a563c2bb65e",
       "version_major": 2,
       "version_minor": 0
      },
      "text/plain": [
       "open_clip_pytorch_model.bin:   0%|          | 0.00/784M [00:00<?, ?B/s]"
      ]
     },
     "metadata": {},
     "output_type": "display_data"
    },
    {
     "data": {
      "application/vnd.jupyter.widget-view+json": {
       "model_id": "0514b279f3d94a6c93cce8e428bf778e",
       "version_major": 2,
       "version_minor": 0
      },
      "text/plain": [
       "open_clip_config.json:   0%|          | 0.00/707 [00:00<?, ?B/s]"
      ]
     },
     "metadata": {},
     "output_type": "display_data"
    },
    {
     "name": "stderr",
     "output_type": "stream",
     "text": [
      "/home/armand/miniconda3/lib/python3.10/site-packages/huggingface_hub/file_download.py:797: FutureWarning: `resume_download` is deprecated and will be removed in version 1.0.0. Downloads always resume when possible. If you want to force a new download, use `force_download=True`.\n",
      "  warnings.warn(\n"
     ]
    },
    {
     "data": {
      "application/vnd.jupyter.widget-view+json": {
       "model_id": "d23d3bc3c5ee47e9b9838b1fe96d85cf",
       "version_major": 2,
       "version_minor": 0
      },
      "text/plain": [
       "config.json:   0%|          | 0.00/385 [00:00<?, ?B/s]"
      ]
     },
     "metadata": {},
     "output_type": "display_data"
    },
    {
     "name": "stderr",
     "output_type": "stream",
     "text": [
      "/home/armand/miniconda3/lib/python3.10/site-packages/transformers/utils/generic.py:309: FutureWarning: `torch.utils._pytree._register_pytree_node` is deprecated. Please use `torch.utils._pytree.register_pytree_node` instead.\n",
      "  _torch_pytree._register_pytree_node(\n",
      "/home/armand/miniconda3/lib/python3.10/site-packages/open_clip/factory.py:129: FutureWarning: You are using `torch.load` with `weights_only=False` (the current default value), which uses the default pickle module implicitly. It is possible to construct malicious pickle data which will execute arbitrary code during unpickling (See https://github.com/pytorch/pytorch/blob/main/SECURITY.md#untrusted-models for more details). In a future release, the default value for `weights_only` will be flipped to `True`. This limits the functions that could be executed during unpickling. Arbitrary objects will no longer be allowed to be loaded via this mode unless they are explicitly allowlisted by the user via `torch.serialization.add_safe_globals`. We recommend you start setting `weights_only=True` for any use case where you don't have full control of the loaded file. Please open an issue on GitHub for any issues related to this experimental feature.\n",
      "  checkpoint = torch.load(checkpoint_path, map_location=map_location)\n"
     ]
    },
    {
     "data": {
      "application/vnd.jupyter.widget-view+json": {
       "model_id": "b22a1950b7ed4e5ebfea11698bca37db",
       "version_major": 2,
       "version_minor": 0
      },
      "text/plain": [
       "tokenizer_config.json:   0%|          | 0.00/28.0 [00:00<?, ?B/s]"
      ]
     },
     "metadata": {},
     "output_type": "display_data"
    },
    {
     "data": {
      "application/vnd.jupyter.widget-view+json": {
       "model_id": "04dac0ae271c47c3a7b061673569ed01",
       "version_major": 2,
       "version_minor": 0
      },
      "text/plain": [
       "vocab.txt:   0%|          | 0.00/225k [00:00<?, ?B/s]"
      ]
     },
     "metadata": {},
     "output_type": "display_data"
    }
   ],
   "source": [
    "from open_clip import create_model_from_pretrained, get_tokenizer\n",
    "\n",
    "model, preprocess = create_model_from_pretrained('hf-hub:microsoft/BiomedCLIP-PubMedBERT_256-vit_base_patch16_224')\n",
    "tokenizer = get_tokenizer('hf-hub:microsoft/BiomedCLIP-PubMedBERT_256-vit_base_patch16_224')"
   ]
  },
  {
   "cell_type": "code",
   "execution_count": 29,
   "id": "86e1df53-1a57-48bf-94df-81a4fd4003d2",
   "metadata": {},
   "outputs": [
    {
     "name": "stdout",
     "output_type": "stream",
     "text": [
      "torch.Size([9, 512])\n"
     ]
    }
   ],
   "source": [
    "import torch\n",
    "from urllib.request import urlopen\n",
    "from PIL import Image\n",
    "\n",
    "dataset_url = 'https://huggingface.co/microsoft/BiomedCLIP-PubMedBERT_256-vit_base_patch16_224/resolve/main/example_data/biomed_image_classification_example_data/'\n",
    "test_imgs = [\n",
    "    'squamous_cell_carcinoma_histopathology.jpeg',\n",
    "    'H_and_E_histopathology.jpg',\n",
    "    'bone_X-ray.jpg',\n",
    "    'adenocarcinoma_histopathology.jpg',\n",
    "    'covid_line_chart.png',\n",
    "    'IHC_histopathology.jpg',\n",
    "    'chest_X-ray.jpg',\n",
    "    'brain_MRI.jpg',\n",
    "    'pie_chart.png'\n",
    "]\n",
    "\n",
    "device = torch.device('cuda') if torch.cuda.is_available() else torch.device('cpu')\n",
    "model.to(device)\n",
    "model.eval()\n",
    "\n",
    "\n",
    "context_length = 256\n",
    "\n",
    "images = torch.stack([preprocess(Image.open(urlopen(dataset_url + img))) for img in test_imgs]).to(device)\n",
    "texts = tokenizer([\"\" for im in images], context_length=context_length).to(device)\n",
    "with torch.no_grad():\n",
    "    image_features, text_features, logit_scale = model(images, texts)\n",
    "\n",
    "print(image_features.shape)"
   ]
  },
  {
   "cell_type": "code",
   "execution_count": 11,
   "id": "5d7eefe8-3327-4b0b-b4db-4f09b38eb128",
   "metadata": {},
   "outputs": [
    {
     "name": "stdout",
     "output_type": "stream",
     "text": [
      "tensor([[-0.0279,  0.0556, -0.2120],\n",
      "        [ 0.0046, -0.0682, -0.2127],\n",
      "        [ 0.0295, -0.0657, -0.2510],\n",
      "        [-0.0197,  0.0414, -0.1855],\n",
      "        [ 0.0547,  0.0121, -0.0997],\n",
      "        [ 0.0119, -0.0210, -0.2200],\n",
      "        [-0.0434, -0.0100, -0.2650],\n",
      "        [ 0.0150, -0.0132, -0.2424],\n",
      "        [-0.0262, -0.0522, -0.2326]], device='cuda:0')\n"
     ]
    }
   ],
   "source": [
    "with torch.no_grad():\n",
    "    image_features, text_features, logit_scale = model(images, texts)\n",
    "print(image_features[:,:3])"
   ]
  },
  {
   "cell_type": "raw",
   "id": "36069b2c-0a67-4f56-a6e4-e2e2dba0db05",
   "metadata": {},
   "source": [
    "from torchvision.transforms.functional import to_pil_image\n",
    "import torch\n",
    "import torch.nn.functional as F\n",
    "\n",
    "\n",
    "\n",
    "class BiomedClipModel(torch.nn.Module):\n",
    "    def __init__(self, model, tokenizer, image_only=True):\n",
    "        super().__init__()\n",
    "        self.model = model\n",
    "        self.tokenizer = tokenizer\n",
    "        self.image_only = image_only\n",
    "\n",
    "    def encode(self, x, c=None):\n",
    "        if self.image_only:\n",
    "            text = self.tokenizer([\"\" for i in range(len(x))], context_length=0).to(x.device)\n",
    "        else:\n",
    "            text = self.tokenizer(c, context_length=256).to(x.device)\n",
    "        \n",
    "        images = self.preprocess(x)\n",
    "        image_features, text_features, logit_scale = self.model(images, text)\n",
    "        if self.image_only:\n",
    "            return image_features\n",
    "        return image_features, text_features\n",
    "        \n",
    "    \n",
    "    def decode(self, x, c=None):\n",
    "        raise(RuntimeError(\"BiomedClip has no decoder\"))\n",
    "\n",
    "    def preprocess(self, img):\n",
    "        _, ch, h, w = img.shape\n",
    "        \n",
    "        if h < w:\n",
    "            new_h, new_w = 224, int(w * 224 / h)  # Scale width\n",
    "        else:\n",
    "            new_w, new_h = 224, int(h * 224 / w)  # Scale height\n",
    "        \n",
    "        img = F.interpolate(img, size=(new_h, new_w), mode='bicubic', align_corners=False, antialias=True)   \n",
    "        \n",
    "        # Center crop manually\n",
    "        top = (new_h - 224) // 2\n",
    "        left = (new_w - 224) // 2\n",
    "        \n",
    "        img = img[..., top:top+224, left:left+224]\n",
    "    \n",
    "        # Convert to RGB (if needed)\n",
    "        if ch == 1:  # Grayscale input\n",
    "            img = img.repeat(1, 3, 1, 1)  # Expand to RGB channels\n",
    "        \n",
    "        # Normalize\n",
    "        mean = torch.tensor([0.48145466, 0.4578275, 0.40821073], device=img.device).view(1, 3, 1, 1)\n",
    "        std = torch.tensor([0.26862954, 0.26130258, 0.27577711], device=img.device).view(1, 3, 1, 1)\n",
    "        img = (img - mean) / std\n",
    "    \n",
    "        return img"
   ]
  },
  {
   "cell_type": "code",
   "execution_count": 83,
   "id": "e5e88d89-cbd2-4736-a76b-9361aecff033",
   "metadata": {},
   "outputs": [],
   "source": [
    "from fff.subject_model import BiomedClipModel"
   ]
  },
  {
   "cell_type": "code",
   "execution_count": 84,
   "id": "71fe07b8-cdd1-433b-973f-8395b9f4438a",
   "metadata": {},
   "outputs": [],
   "source": [
    "compiled_model = BiomedClipModel(model, tokenizer)"
   ]
  },
  {
   "cell_type": "code",
   "execution_count": 85,
   "id": "32ea3c17-9db2-4469-85cf-5405753c867d",
   "metadata": {},
   "outputs": [],
   "source": [
    "im_feat = compiled_model.encode(to_tensor(Image.open(urlopen(dataset_url + \"H_and_E_histopathology.jpg\"))).unsqueeze(0).to(device))"
   ]
  },
  {
   "cell_type": "code",
   "execution_count": 86,
   "id": "209c5ad1-dac2-4091-9954-6fbfad1d460e",
   "metadata": {},
   "outputs": [],
   "source": [
    "images = torch.stack([preprocess(Image.open(urlopen(dataset_url + \"H_and_E_histopathology.jpg\")))]).to(device)\n",
    "texts = tokenizer([\"\"], context_length=0).to(device)\n",
    "\n",
    "im_feat_orig, _, _ = model(images, texts)"
   ]
  },
  {
   "cell_type": "code",
   "execution_count": 87,
   "id": "40790235-baa1-435b-a4ff-cd948c03a79b",
   "metadata": {},
   "outputs": [
    {
     "data": {
      "text/plain": [
       "tensor(1.5150e-08, device='cuda:0', grad_fn=<MeanBackward0>)"
      ]
     },
     "execution_count": 87,
     "metadata": {},
     "output_type": "execute_result"
    }
   ],
   "source": [
    "torch.mean((im_feat_orig - im_feat)**2)"
   ]
  },
  {
   "cell_type": "code",
   "execution_count": 88,
   "id": "060e6ab1-ef92-42e1-b332-d1d91dc6ab10",
   "metadata": {},
   "outputs": [],
   "source": [
    "torch.save(compiled_model, \"SubjectModels/saved_models/BiomedClip.pt\")"
   ]
  },
  {
   "cell_type": "code",
   "execution_count": 79,
   "id": "a127c4b1-33ec-4030-8611-988e4a7d3fa5",
   "metadata": {},
   "outputs": [
    {
     "name": "stdout",
     "output_type": "stream",
     "text": [
      "torch.Size([1, 512])\n"
     ]
    }
   ],
   "source": [
    "print(im_feat.shape)"
   ]
  },
  {
   "cell_type": "code",
   "execution_count": 81,
   "id": "048652db-5b35-454c-8192-26eb896b2ff0",
   "metadata": {},
   "outputs": [
    {
     "name": "stdout",
     "output_type": "stream",
     "text": [
      " BiomedModel.ipynb                     \u001b[0m\u001b[01;34m'FIF PythAE benchmark'\u001b[0m/\n",
      "\u001b[01;34m'FFF Boltzmann Generator Evaluation'\u001b[0m/  'Sine Experiments.ipynb'\n",
      " \u001b[01;34mFiber_Learning\u001b[0m/                        \u001b[01;34mSubjectModels\u001b[0m/\n",
      " \u001b[01;34mFiberModels\u001b[0m/\n"
     ]
    }
   ],
   "source": [
    "%ls"
   ]
  },
  {
   "cell_type": "code",
   "execution_count": null,
   "id": "428df9ff-d519-4975-959c-1c1334cfc8f0",
   "metadata": {},
   "outputs": [],
   "source": []
  }
 ],
 "metadata": {
  "kernelspec": {
   "display_name": "Python 3 (ipykernel)",
   "language": "python",
   "name": "python3"
  },
  "language_info": {
   "codemirror_mode": {
    "name": "ipython",
    "version": 3
   },
   "file_extension": ".py",
   "mimetype": "text/x-python",
   "name": "python",
   "nbconvert_exporter": "python",
   "pygments_lexer": "ipython3",
   "version": "3.10.12"
  }
 },
 "nbformat": 4,
 "nbformat_minor": 5
}
