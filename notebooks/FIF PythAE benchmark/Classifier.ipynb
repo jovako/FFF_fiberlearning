{
 "cells": [
  {
   "cell_type": "code",
   "execution_count": 1,
   "id": "3222da27-af3c-4fb9-89e9-f9835e9c1c2c",
   "metadata": {},
   "outputs": [
    {
     "name": "stderr",
     "output_type": "stream",
     "text": [
      "INFO: Using pytorch backend\n",
      "/tmp/ipykernel_722877/735068933.py:8: DeprecationWarning: \n",
      "Pyarrow will become a required dependency of pandas in the next major release of pandas (pandas 3.0),\n",
      "(to allow more performant data types, such as the Arrow string type, and better interoperability with other libraries)\n",
      "but was not found to be installed on your system.\n",
      "If this would cause problems for you,\n",
      "please provide us feedback at https://github.com/pandas-dev/pandas/issues/54466\n",
      "        \n",
      "  import pandas as pd\n"
     ]
    }
   ],
   "source": [
    "import os\n",
    "os.chdir('../../')\n",
    "import fff\n",
    "import torch\n",
    "import numpy as np\n",
    "import matplotlib.pyplot as plt\n",
    "import matplotlib\n",
    "import pandas as pd\n",
    "import os\n",
    "import pickle as pkl\n",
    "matplotlib.rcParams.update({'font.size': 18})"
   ]
  },
  {
   "cell_type": "code",
   "execution_count": 20,
   "id": "5cc75d0e-f15c-49b8-9f61-e709eddead18",
   "metadata": {},
   "outputs": [
    {
     "name": "stdout",
     "output_type": "stream",
     "text": [
      "torch.Size([60000, 1, 8, 8])\n",
      "cond_dim:  0\n",
      "latent_dim:  10\n",
      "[10, 256, 256, 10]\n",
      "[10, 256, 256, 10]\n",
      "[10, 256, 256, 10]\n",
      "[10, 256, 256, 10]\n",
      "[10, 256, 256, 10]\n",
      "[10, 256, 256, 10]\n",
      "Sequential(\n",
      "  (0): ConvolutionalNeuralNetwork(\n",
      "    (model): Sequential(\n",
      "      (encoder): Sequential(\n",
      "        (0): Unflatten(dim=-1, unflattened_size=(1, 8, 8))\n",
      "        (1): Conv2d(1, 32, kernel_size=(3, 3), stride=(1, 1), padding=(1, 1))\n",
      "        (2): ReLU()\n",
      "        (3): Conv2d(32, 64, kernel_size=(3, 3), stride=(2, 2), padding=(1, 1))\n",
      "        (4): ReLU()\n",
      "        (5): Conv2d(64, 256, kernel_size=(3, 3), stride=(2, 2), padding=(1, 1))\n",
      "        (6): ReLU()\n",
      "        (7): Flatten(start_dim=-3, end_dim=-1)\n",
      "        (8): Linear(in_features=1024, out_features=10, bias=True)\n",
      "      )\n",
      "      (decoder): Sequential(\n",
      "        (0): Linear(in_features=10, out_features=4096, bias=True)\n",
      "        (1): Unflatten(dim=-1, unflattened_size=(256, 4, 4))\n",
      "        (2): ConvTranspose2d(256, 1, kernel_size=(3, 3), stride=(2, 2), padding=(1, 1), output_padding=(1, 1))\n",
      "        (3): Sigmoid()\n",
      "        (4): Flatten(start_dim=-3, end_dim=-1)\n",
      "      )\n",
      "    )\n",
      "  )\n",
      "  (1): ResNet(\n",
      "    (model): Sequential(\n",
      "      (encoder): Sequential(\n",
      "        (0): SkipConnection(\n",
      "          (inner): Sequential(\n",
      "            (Hidden_Layer_0): Linear(in_features=10, out_features=256, bias=True)\n",
      "            (Hidden_Activation_0): SiLU()\n",
      "            (Hidden_Layer_1): Linear(in_features=256, out_features=256, bias=True)\n",
      "            (Hidden_Activation_1): SiLU()\n",
      "            (Output_Layer): Linear(in_features=256, out_features=10, bias=True)\n",
      "          )\n",
      "        )\n",
      "        (1): SkipConnection(\n",
      "          (inner): Sequential(\n",
      "            (Hidden_Layer_0): Linear(in_features=10, out_features=256, bias=True)\n",
      "            (Hidden_Activation_0): SiLU()\n",
      "            (Hidden_Layer_1): Linear(in_features=256, out_features=256, bias=True)\n",
      "            (Hidden_Activation_1): SiLU()\n",
      "            (Output_Layer): Linear(in_features=256, out_features=10, bias=True)\n",
      "          )\n",
      "        )\n",
      "        (2): SkipConnection(\n",
      "          (inner): Sequential(\n",
      "            (Hidden_Layer_0): Linear(in_features=10, out_features=256, bias=True)\n",
      "            (Hidden_Activation_0): SiLU()\n",
      "            (Hidden_Layer_1): Linear(in_features=256, out_features=256, bias=True)\n",
      "            (Hidden_Activation_1): SiLU()\n",
      "            (Output_Layer): Linear(in_features=256, out_features=10, bias=True)\n",
      "          )\n",
      "        )\n",
      "        (3): Softmax(dim=None)\n",
      "      )\n",
      "      (decoder): Sequential(\n",
      "        (0): SkipConnection(\n",
      "          (inner): Sequential(\n",
      "            (Hidden_Layer_0): Linear(in_features=10, out_features=256, bias=True)\n",
      "            (Hidden_Activation_0): SiLU()\n",
      "            (Hidden_Layer_1): Linear(in_features=256, out_features=256, bias=True)\n",
      "            (Hidden_Activation_1): SiLU()\n",
      "            (Output_Layer): Linear(in_features=256, out_features=10, bias=True)\n",
      "          )\n",
      "        )\n",
      "        (1): SkipConnection(\n",
      "          (inner): Sequential(\n",
      "            (Hidden_Layer_0): Linear(in_features=10, out_features=256, bias=True)\n",
      "            (Hidden_Activation_0): SiLU()\n",
      "            (Hidden_Layer_1): Linear(in_features=256, out_features=256, bias=True)\n",
      "            (Hidden_Activation_1): SiLU()\n",
      "            (Output_Layer): Linear(in_features=256, out_features=10, bias=True)\n",
      "          )\n",
      "        )\n",
      "        (2): SkipConnection(\n",
      "          (inner): Sequential(\n",
      "            (Hidden_Layer_0): Linear(in_features=10, out_features=256, bias=True)\n",
      "            (Hidden_Activation_0): SiLU()\n",
      "            (Hidden_Layer_1): Linear(in_features=256, out_features=256, bias=True)\n",
      "            (Hidden_Activation_1): SiLU()\n",
      "            (Output_Layer): Linear(in_features=256, out_features=10, bias=True)\n",
      "          )\n",
      "        )\n",
      "      )\n",
      "    )\n",
      "  )\n",
      ")\n"
     ]
    }
   ],
   "source": [
    "model = fff.FreeFormInjectiveFlow.load_from_checkpoint(\n",
    "    \"lightning_logs/classifier/version_2/checkpoints/last.ckpt\"\n",
    ")"
   ]
  },
  {
   "cell_type": "code",
   "execution_count": 87,
   "id": "7c9b2113-25d4-446c-8761-577206fdec93",
   "metadata": {},
   "outputs": [],
   "source": [
    "from fff.model.utils import guess_image_shape\n",
    "class Truncate(torch.nn.Module):\n",
    "            def __init__(self):\n",
    "                super(Truncate, self).__init__()\n",
    "                enc_conv = list(\n",
    "                    list(\n",
    "                    list(\n",
    "                    list(\n",
    "                        model.children()\n",
    "                    )[1].children()\n",
    "                    )[0].children()\n",
    "                    )[0].children()\n",
    "                    )[0]\n",
    "                enc_res = list(\n",
    "                    list(\n",
    "                    list(\n",
    "                    list(\n",
    "                    list(\n",
    "                        model.children()\n",
    "                    )[1].children()\n",
    "                    )[1].children()\n",
    "                    )[0].children()\n",
    "                    )[0].children()\n",
    "                    )[:-2]\n",
    "                self.features = torch.nn.Sequential(\n",
    "                    enc_conv, *enc_res\n",
    "                )\n",
    "\n",
    "            def cat_x_c(self, x, c):\n",
    "                # Reshape as image, and concatenate conditioning as channel dimensions\n",
    "                has_batch_dimension = len(x.shape) > 1\n",
    "                if not has_batch_dimension:\n",
    "                    x = x[None, :]\n",
    "                    c = c[None, :]\n",
    "                batch_size = x.shape[0]\n",
    "                input_shape = guess_image_shape(model.data_dim)\n",
    "                x_img = x.reshape(batch_size, *input_shape)\n",
    "                c_img = c[:, :, None, None] * torch.ones(batch_size, model.cond_dim, *input_shape[1:], device=c.device)\n",
    "                out = torch.cat([x_img, c_img], -3).reshape(batch_size, -1)\n",
    "                if not has_batch_dimension:\n",
    "                    out = out[0]\n",
    "                return out\n",
    "            \n",
    "            def forward(self, x, c):\n",
    "                x = self.features(self.cat_x_c(x,c))\n",
    "                return x\n",
    "\n",
    "Features = Truncate()"
   ]
  },
  {
   "cell_type": "code",
   "execution_count": 88,
   "id": "0c69a7d8-edd8-469c-89f1-7429f8c0102b",
   "metadata": {},
   "outputs": [
    {
     "data": {
      "text/plain": [
       "<torch.autograd.grad_mode.set_grad_enabled at 0x7fd12a760a50>"
      ]
     },
     "execution_count": 88,
     "metadata": {},
     "output_type": "execute_result"
    }
   ],
   "source": [
    "torch.set_grad_enabled(False)"
   ]
  },
  {
   "cell_type": "code",
   "execution_count": 91,
   "id": "b47b624e-6ee4-4c40-89c3-2e44441058aa",
   "metadata": {},
   "outputs": [
    {
     "name": "stdout",
     "output_type": "stream",
     "text": [
      "encoding traindata...\n",
      "encoding valdata...\n",
      "encoding testdata...\n"
     ]
    }
   ],
   "source": [
    "save_data(model, Features)"
   ]
  },
  {
   "cell_type": "code",
   "execution_count": 90,
   "id": "4e0d10c6-f884-4699-b507-afbe71bebdbd",
   "metadata": {},
   "outputs": [],
   "source": [
    "def save_data(orig_model, feature_model):\n",
    "    train_data = orig_model.train_data[:]\n",
    "    val_data = orig_model.val_data[:]\n",
    "    test_data = orig_model.test_data[:]\n",
    "    \n",
    "    conditioned = orig_model.apply_conditions(train_data)\n",
    "    train_samples = conditioned.x_noisy\n",
    "    c_t = conditioned.condition\n",
    "    c_t = torch.empty((c_t.shape[0], 0), device=c_t.device)\n",
    "    \n",
    "    conditioned = orig_model.apply_conditions(val_data)\n",
    "    val_samples = conditioned.x_noisy\n",
    "    c_v = conditioned.condition\n",
    "    c_v = torch.empty((c_v.shape[0], 0), device=c_v.device)\n",
    "\n",
    "    conditioned = orig_model.apply_conditions(test_data)\n",
    "    test_samples = conditioned.x_noisy\n",
    "    c_test = conditioned.condition\n",
    "    c_test = torch.empty((c_test.shape[0], 0), device=c_test.device)\n",
    "    \n",
    "    device = orig_model.device\n",
    "    print(\"encoding traindata...\")\n",
    "    batch_size = orig_model.hparams.batch_size\n",
    "    z_train = torch.cat([\n",
    "        feature_model(batch.to(device), c_batch.to(device)).cpu()\n",
    "        for batch, c_batch in zip(train_samples.split(batch_size), c_t.split(batch_size))\n",
    "    ])\n",
    "    print(\"encoding valdata...\")\n",
    "    z_val = torch.cat([\n",
    "        feature_model.forward(batch.to(device), c_batch.to(device)).cpu()\n",
    "        for batch, c_batch in zip(val_samples.split(batch_size), c_v.split(batch_size))\n",
    "    ])\n",
    "    print(\"encoding testdata...\")\n",
    "    z_test = torch.cat([\n",
    "        feature_model.forward(batch.to(device), c_batch.to(device)).cpu()\n",
    "        for batch, c_batch in zip(test_samples.split(batch_size), c_test.split(batch_size))\n",
    "    ])\n",
    "\n",
    "    data = {}\n",
    "    \n",
    "    data[\"train_x\"] = train_samples.cpu().numpy()\n",
    "    data[\"train_y\"] = z_train.cpu().numpy()\n",
    "    \n",
    "    data[\"val_x\"] = val_samples.cpu().numpy()\n",
    "    data[\"val_y\"] = z_val.cpu().numpy()\n",
    "\n",
    "    data[\"test_x\"] = test_samples.cpu().numpy()\n",
    "    data[\"test_y\"] = z_test.cpu().numpy()\n",
    "\n",
    "    path = \"data/\"\n",
    "    fileName = path + 'Mnist_Class'\n",
    "    fileObject = open(fileName, 'wb')\n",
    "    \n",
    "    pkl.dump(data, fileObject)\n",
    "    fileObject.close()"
   ]
  },
  {
   "cell_type": "code",
   "execution_count": 22,
   "id": "3444c016-7966-4d2d-acf5-dffb86d6864b",
   "metadata": {},
   "outputs": [],
   "source": [
    "from fff.evaluate.plots import all_conditions\n",
    "def plot_mnist(rectangular_flow):\n",
    "    data = {}\n",
    "    train_batch = rectangular_flow.train_data[:]\n",
    "    val_batch = rectangular_flow.test_data[:5000]\n",
    "\n",
    "    conditioned = rectangular_flow.apply_conditions(train_batch)\n",
    "    train_samples = conditioned.x0\n",
    "    c_train = conditioned.condition\n",
    "    \n",
    "    conditioned = rectangular_flow.apply_conditions(val_batch)\n",
    "    #print(val_batch[1][:10])\n",
    "    c_val = conditioned.condition\n",
    "    print(torch.argmax(c_val, dim=1)[:10])\n",
    "    targets = torch.argmax(c_val, dim=1)\n",
    "    val_samples = conditioned.x0\n",
    "\n",
    "    c_val = torch.empty((c_val.shape[0], 0), device=c_val.device)\n",
    "    \n",
    "    device = rectangular_flow.device\n",
    "    \n",
    "    print(\"encoding...\")\n",
    "    batch_size = rectangular_flow.hparams.batch_size\n",
    "    #print(batch_size)\n",
    "    z_val = torch.cat([\n",
    "        rectangular_flow.encode(batch.to(device), c_batch.to(device)).cpu()\n",
    "        for batch, c_batch in zip(val_samples.split(batch_size), c_val.split(batch_size))\n",
    "    ])\n",
    "    fig, axes = plt.subplots(nrows=2, ncols=5, figsize=(10, 4))\n",
    "    for i in range(2):\n",
    "        for j in range(5):\n",
    "            axes[i][j].imshow(val_samples[i*5 +j].cpu().reshape(8, 8), cmap='gray')\n",
    "    fig.suptitle(\"Original\")\n",
    "    \"\"\"\n",
    "    classes = np.arange(10)\n",
    "    fig, axes = plt.subplots(nrows=2, ncols=5, figsize=(14, 8))\n",
    "    a = np.linspace(-5,5,100)\n",
    "    for i in range(2):\n",
    "        for j in range(5):\n",
    "            axes[i][j].bar(classes, z_val[5*i+j])\n",
    "    fig.suptitle(\"Classifier\")\n",
    "    fig.tight_layout()\n",
    "    \"\"\"\n",
    "\n",
    "    accuracy = torch.sum(targets==torch.argmax(z_val,dim=1))/targets.shape[0]\n",
    "    print(accuracy)\n",
    "    "
   ]
  },
  {
   "cell_type": "code",
   "execution_count": 23,
   "id": "09e65fc9-7ecf-44d8-b6b8-8c624a29efd3",
   "metadata": {},
   "outputs": [
    {
     "name": "stdout",
     "output_type": "stream",
     "text": [
      "tensor([7, 2, 1, 0, 4, 1, 4, 9, 5, 9])\n",
      "encoding...\n",
      "tensor(0.9834)\n"
     ]
    },
    {
     "data": {
      "image/png": "[encoded data removed]",
      "text/plain": [
       "<Figure size 1000x400 with 10 Axes>"
      ]
     },
     "metadata": {},
     "output_type": "display_data"
    },
    {
     "data": {
      "image/png": "[encoded data removed]",
      "text/plain": [
       "<Figure size 1400x800 with 10 Axes>"
      ]
     },
     "metadata": {},
     "output_type": "display_data"
    }
   ],
   "source": [
    "plot_mnist(model)"
   ]
  },
  {
   "cell_type": "code",
   "execution_count": 56,
   "id": "66672246-d5e2-4ccb-8f1f-dc7ccaf39ffc",
   "metadata": {},
   "outputs": [
    {
     "name": "stdout",
     "output_type": "stream",
     "text": [
      "[SkipConnection(\n",
      "  (inner): Sequential(\n",
      "    (Hidden_Layer_0): Linear(in_features=10, out_features=256, bias=True)\n",
      "    (Hidden_Activation_0): SiLU()\n",
      "    (Hidden_Layer_1): Linear(in_features=256, out_features=256, bias=True)\n",
      "    (Hidden_Activation_1): SiLU()\n",
      "    (Output_Layer): Linear(in_features=256, out_features=10, bias=True)\n",
      "  )\n",
      "), SkipConnection(\n",
      "  (inner): Sequential(\n",
      "    (Hidden_Layer_0): Linear(in_features=10, out_features=256, bias=True)\n",
      "    (Hidden_Activation_0): SiLU()\n",
      "    (Hidden_Layer_1): Linear(in_features=256, out_features=256, bias=True)\n",
      "    (Hidden_Activation_1): SiLU()\n",
      "    (Output_Layer): Linear(in_features=256, out_features=10, bias=True)\n",
      "  )\n",
      ")]\n"
     ]
    }
   ],
   "source": [
    "print(\n",
    "    list(\n",
    "    list(\n",
    "    list(\n",
    "    list(\n",
    "    list(\n",
    "        model.children()\n",
    "    )[1].children()\n",
    "    )[1].children()\n",
    "    )[0].children()\n",
    "    )[0].children()\n",
    "    )[:-2]\n",
    ")"
   ]
  },
  {
   "cell_type": "code",
   "execution_count": 59,
   "id": "11eabdbe-56ef-4876-80fa-4023a1a68c12",
   "metadata": {},
   "outputs": [
    {
     "name": "stdout",
     "output_type": "stream",
     "text": [
      "Sequential(\n",
      "  (0): Unflatten(dim=-1, unflattened_size=(1, 8, 8))\n",
      "  (1): Conv2d(1, 32, kernel_size=(3, 3), stride=(1, 1), padding=(1, 1))\n",
      "  (2): ReLU()\n",
      "  (3): Conv2d(32, 64, kernel_size=(3, 3), stride=(2, 2), padding=(1, 1))\n",
      "  (4): ReLU()\n",
      "  (5): Conv2d(64, 256, kernel_size=(3, 3), stride=(2, 2), padding=(1, 1))\n",
      "  (6): ReLU()\n",
      "  (7): Flatten(start_dim=-3, end_dim=-1)\n",
      "  (8): Linear(in_features=1024, out_features=10, bias=True)\n",
      ")\n"
     ]
    }
   ],
   "source": [
    "print(\n",
    "    list(\n",
    "    list(\n",
    "    list(\n",
    "    list(\n",
    "        model.children()\n",
    "    )[1].children()\n",
    "    )[0].children()\n",
    "    )[0].children()\n",
    "    )[0]\n",
    ")"
   ]
  },
  {
   "cell_type": "code",
   "execution_count": null,
   "id": "cf4962d4-c142-46d2-8628-c1fdae8ec8cb",
   "metadata": {},
   "outputs": [],
   "source": []
  }
 ],
 "metadata": {
  "kernelspec": {
   "display_name": "Python 3 (ipykernel)",
   "language": "python",
   "name": "python3"
  },
  "language_info": {
   "codemirror_mode": {
    "name": "ipython",
    "version": 3
   },
   "file_extension": ".py",
   "mimetype": "text/x-python",
   "name": "python",
   "nbconvert_exporter": "python",
   "pygments_lexer": "ipython3",
   "version": "3.11.7"
  }
 },
 "nbformat": 4,
 "nbformat_minor": 5
}
